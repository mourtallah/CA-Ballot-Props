{
 "cells": [
  {
   "cell_type": "markdown",
   "id": "known-waste",
   "metadata": {},
   "source": [
    "### Loading Packages"
   ]
  },
  {
   "cell_type": "code",
   "execution_count": 79,
   "id": "plain-helping",
   "metadata": {},
   "outputs": [],
   "source": [
    "import pandas as pd\n",
    "import altair as alt"
   ]
  },
  {
   "cell_type": "markdown",
   "id": "international-district",
   "metadata": {},
   "source": [
    "### Loading Data"
   ]
  },
  {
   "cell_type": "code",
   "execution_count": 80,
   "id": "three-shoulder",
   "metadata": {},
   "outputs": [],
   "source": [
    "committees = pd.read_csv(\"./committees.csv\") \n",
    "contributions = pd.read_csv(\"./contributions.csv\")"
   ]
  },
  {
   "cell_type": "markdown",
   "id": "configured-donna",
   "metadata": {},
   "source": [
    "### Inspecting head and structure"
   ]
  },
  {
   "cell_type": "code",
   "execution_count": 81,
   "id": "ambient-effectiveness",
   "metadata": {},
   "outputs": [],
   "source": [
    "#contributions.head()"
   ]
  },
  {
   "cell_type": "code",
   "execution_count": 82,
   "id": "pleased-exposure",
   "metadata": {},
   "outputs": [
    {
     "output_type": "execute_result",
     "data": {
      "text/plain": [
       "30172     -150000.0\n",
       "56365      -27000.0\n",
       "32332      -15000.0\n",
       "56366       -9000.0\n",
       "41977       -5000.0\n",
       "            ...    \n",
       "49941     9000000.0\n",
       "45136     9904752.0\n",
       "45129     9956700.0\n",
       "49872    10000000.0\n",
       "49870    12500000.0\n",
       "Name: amount, Length: 56379, dtype: float64"
      ]
     },
     "metadata": {},
     "execution_count": 82
    }
   ],
   "source": [
    "contributions.amount.sort_values()"
   ]
  },
  {
   "cell_type": "code",
   "execution_count": 83,
   "id": "spatial-friendship",
   "metadata": {},
   "outputs": [],
   "source": [
    "#committees.head()"
   ]
  },
  {
   "cell_type": "markdown",
   "id": "brown-seven",
   "metadata": {},
   "source": [
    "### Frequency of the sizes of each donation"
   ]
  },
  {
   "cell_type": "code",
   "execution_count": 84,
   "id": "round-territory",
   "metadata": {},
   "outputs": [
    {
     "output_type": "execute_result",
     "data": {
      "text/plain": [
       "         index    amount\n",
       "464   16891.91      1.05\n",
       "340   32200.00      1.05\n",
       "339     360.00      1.05\n",
       "338       7.00      1.05\n",
       "337  652690.00      1.05\n",
       "..         ...       ...\n",
       "4      1000.00    974.05\n",
       "3        50.00   3184.05\n",
       "2        25.00   3749.05\n",
       "1       100.00   7604.05\n",
       "0       287.08  28612.05\n",
       "\n",
       "[465 rows x 2 columns]"
      ],
      "text/html": "<div>\n<style scoped>\n    .dataframe tbody tr th:only-of-type {\n        vertical-align: middle;\n    }\n\n    .dataframe tbody tr th {\n        vertical-align: top;\n    }\n\n    .dataframe thead th {\n        text-align: right;\n    }\n</style>\n<table border=\"1\" class=\"dataframe\">\n  <thead>\n    <tr style=\"text-align: right;\">\n      <th></th>\n      <th>index</th>\n      <th>amount</th>\n    </tr>\n  </thead>\n  <tbody>\n    <tr>\n      <th>464</th>\n      <td>16891.91</td>\n      <td>1.05</td>\n    </tr>\n    <tr>\n      <th>340</th>\n      <td>32200.00</td>\n      <td>1.05</td>\n    </tr>\n    <tr>\n      <th>339</th>\n      <td>360.00</td>\n      <td>1.05</td>\n    </tr>\n    <tr>\n      <th>338</th>\n      <td>7.00</td>\n      <td>1.05</td>\n    </tr>\n    <tr>\n      <th>337</th>\n      <td>652690.00</td>\n      <td>1.05</td>\n    </tr>\n    <tr>\n      <th>...</th>\n      <td>...</td>\n      <td>...</td>\n    </tr>\n    <tr>\n      <th>4</th>\n      <td>1000.00</td>\n      <td>974.05</td>\n    </tr>\n    <tr>\n      <th>3</th>\n      <td>50.00</td>\n      <td>3184.05</td>\n    </tr>\n    <tr>\n      <th>2</th>\n      <td>25.00</td>\n      <td>3749.05</td>\n    </tr>\n    <tr>\n      <th>1</th>\n      <td>100.00</td>\n      <td>7604.05</td>\n    </tr>\n    <tr>\n      <th>0</th>\n      <td>287.08</td>\n      <td>28612.05</td>\n    </tr>\n  </tbody>\n</table>\n<p>465 rows × 2 columns</p>\n</div>"
     },
     "metadata": {},
     "execution_count": 84
    }
   ],
   "source": [
    "(contributions.amount.value_counts() + .05).reset_index().sort_values(by=\"amount\")\n"
   ]
  },
  {
   "cell_type": "code",
   "execution_count": 85,
   "id": "demographic-edmonton",
   "metadata": {},
   "outputs": [
    {
     "output_type": "execute_result",
     "data": {
      "text/html": "\n<div id=\"altair-viz-c5ce89ea09be4c8083ff7f543c69d62d\"></div>\n<script type=\"text/javascript\">\n  (function(spec, embedOpt){\n    let outputDiv = document.currentScript.previousElementSibling;\n    if (outputDiv.id !== \"altair-viz-c5ce89ea09be4c8083ff7f543c69d62d\") {\n      outputDiv = document.getElementById(\"altair-viz-c5ce89ea09be4c8083ff7f543c69d62d\");\n    }\n    const paths = {\n      \"vega\": \"https://cdn.jsdelivr.net/npm//vega@5?noext\",\n      \"vega-lib\": \"https://cdn.jsdelivr.net/npm//vega-lib?noext\",\n      \"vega-lite\": \"https://cdn.jsdelivr.net/npm//vega-lite@4.8.1?noext\",\n      \"vega-embed\": \"https://cdn.jsdelivr.net/npm//vega-embed@6?noext\",\n    };\n\n    function loadScript(lib) {\n      return new Promise(function(resolve, reject) {\n        var s = document.createElement('script');\n        s.src = paths[lib];\n        s.async = true;\n        s.onload = () => resolve(paths[lib]);\n        s.onerror = () => reject(`Error loading script: ${paths[lib]}`);\n        document.getElementsByTagName(\"head\")[0].appendChild(s);\n      });\n    }\n\n    function showError(err) {\n      outputDiv.innerHTML = `<div class=\"error\" style=\"color:red;\">${err}</div>`;\n      throw err;\n    }\n\n    function displayChart(vegaEmbed) {\n      vegaEmbed(outputDiv, spec, embedOpt)\n        .catch(err => showError(`Javascript Error: ${err.message}<br>This usually means there's a typo in your chart specification. See the javascript console for the full traceback.`));\n    }\n\n    if(typeof define === \"function\" && define.amd) {\n      requirejs.config({paths});\n      require([\"vega-embed\"], displayChart, err => showError(`Error loading script: ${err.message}`));\n    } else if (typeof vegaEmbed === \"function\") {\n      displayChart(vegaEmbed);\n    } else {\n      loadScript(\"vega\")\n        .then(() => loadScript(\"vega-lite\"))\n        .then(() => loadScript(\"vega-embed\"))\n        .catch(showError)\n        .then(() => displayChart(vegaEmbed));\n    }\n  })({\"config\": {\"view\": {\"continuousWidth\": 400, \"continuousHeight\": 300}}, \"data\": {\"name\": \"data-cf36d499110da9b8132df4dc3a97f257\"}, \"mark\": \"bar\", \"encoding\": {\"x\": {\"type\": \"quantitative\", \"axis\": {\"title\": \"Contribution Amount\"}, \"field\": \"index\"}, \"y\": {\"type\": \"quantitative\", \"field\": \"amount\", \"scale\": {\"type\": \"log\"}}}, \"$schema\": \"https://vega.github.io/schema/vega-lite/v4.8.1.json\", \"datasets\": {\"data-cf36d499110da9b8132df4dc3a97f257\": [{\"index\": 287.08, \"amount\": 28612.05}, {\"index\": 100.0, \"amount\": 7604.05}, {\"index\": 25.0, \"amount\": 3749.05}, {\"index\": 50.0, \"amount\": 3184.05}, {\"index\": 1000.0, \"amount\": 974.05}, {\"index\": 250.0, \"amount\": 950.05}, {\"index\": 15.0, \"amount\": 920.05}, {\"index\": 10.0, \"amount\": 900.05}, {\"index\": 500.0, \"amount\": 723.05}, {\"index\": 150.0, \"amount\": 556.05}, {\"index\": 60.0, \"amount\": 528.05}, {\"index\": 5.0, \"amount\": 505.05}, {\"index\": 200.0, \"amount\": 499.05}, {\"index\": 20.0, \"amount\": 413.05}, {\"index\": 5000.0, \"amount\": 360.05}, {\"index\": 75.0, \"amount\": 333.05}, {\"index\": 45.0, \"amount\": 297.05}, {\"index\": 35.0, \"amount\": 233.05}, {\"index\": 185.0, \"amount\": 232.05}, {\"index\": 120.0, \"amount\": 227.05}, {\"index\": 90.0, \"amount\": 198.05}, {\"index\": 2000.0, \"amount\": 194.05}, {\"index\": 10000.0, \"amount\": 182.05}, {\"index\": 2500.0, \"amount\": 181.05}, {\"index\": 130.0, \"amount\": 179.05}, {\"index\": 105.0, \"amount\": 161.05}, {\"index\": 30.0, \"amount\": 151.05}, {\"index\": 50000.0, \"amount\": 144.05}, {\"index\": 25000.0, \"amount\": 142.05}, {\"index\": 300.0, \"amount\": 117.05}, {\"index\": 180.0, \"amount\": 112.05}, {\"index\": 100000.0, \"amount\": 108.05}, {\"index\": 40.0, \"amount\": 103.05}, {\"index\": 3.0, \"amount\": 96.05}, {\"index\": 250000.0, \"amount\": 63.05}, {\"index\": 66.0, \"amount\": 56.05}, {\"index\": 135.0, \"amount\": 54.05}, {\"index\": 15000.0, \"amount\": 49.05}, {\"index\": 63.0, \"amount\": 49.05}, {\"index\": 1500.0, \"amount\": 47.05}, {\"index\": 51.0, \"amount\": 44.05}, {\"index\": 125.0, \"amount\": 41.05}, {\"index\": 365.0, \"amount\": 38.05}, {\"index\": 500000.0, \"amount\": 38.05}, {\"index\": 48.0, \"amount\": 38.05}, {\"index\": 400.0, \"amount\": 38.05}, {\"index\": 20000.0, \"amount\": 37.05}, {\"index\": 78.0, \"amount\": 36.05}, {\"index\": 16.0, \"amount\": 36.05}, {\"index\": 145.0, \"amount\": 35.05}, {\"index\": 165.0, \"amount\": 34.05}, {\"index\": 370.0, \"amount\": 32.05}, {\"index\": 195.0, \"amount\": 31.05}, {\"index\": 54.0, \"amount\": 31.05}, {\"index\": 81.0, \"amount\": 28.05}, {\"index\": 27.0, \"amount\": 28.05}, {\"index\": 93.0, \"amount\": 27.05}, {\"index\": 150000.0, \"amount\": 27.05}, {\"index\": 36.0, \"amount\": 26.05}, {\"index\": 17.0, \"amount\": 26.05}, {\"index\": 3000.0, \"amount\": 26.05}, {\"index\": 200000.0, \"amount\": 26.05}, {\"index\": 75000.0, \"amount\": 25.05}, {\"index\": 1000000.0, \"amount\": 23.05}, {\"index\": 12500.0, \"amount\": 23.05}, {\"index\": -100.0, \"amount\": 22.05}, {\"index\": 30000.0, \"amount\": 21.05}, {\"index\": 22.0, \"amount\": 20.05}, {\"index\": 295.0, \"amount\": 19.05}, {\"index\": 125000.0, \"amount\": 19.05}, {\"index\": 11.0, \"amount\": 19.05}, {\"index\": 110.0, \"amount\": 18.05}, {\"index\": 12.0, \"amount\": 18.05}, {\"index\": 1.0, \"amount\": 17.05}, {\"index\": 4000.0, \"amount\": 17.05}, {\"index\": 21.0, \"amount\": 16.05}, {\"index\": 750.0, \"amount\": 16.05}, {\"index\": 0.0, \"amount\": 16.05}, {\"index\": 240.0, \"amount\": 16.05}, {\"index\": 69.0, \"amount\": 16.05}, {\"index\": 18.0, \"amount\": 16.05}, {\"index\": 147.5, \"amount\": 16.05}, {\"index\": 7500.0, \"amount\": 15.05}, {\"index\": 260.0, \"amount\": 15.05}, {\"index\": 600.0, \"amount\": 15.05}, {\"index\": 111.0, \"amount\": 15.05}, {\"index\": 40000.0, \"amount\": 15.05}, {\"index\": 108.0, \"amount\": 15.05}, {\"index\": 277.5, \"amount\": 15.05}, {\"index\": 26.0, \"amount\": 14.05}, {\"index\": 70.0, \"amount\": 14.05}, {\"index\": 80.0, \"amount\": 14.05}, {\"index\": 55.0, \"amount\": 13.05}, {\"index\": 350.0, \"amount\": 13.05}, {\"index\": 84.0, \"amount\": 12.05}, {\"index\": 153.0, \"amount\": 12.05}, {\"index\": 33.34, \"amount\": 12.05}, {\"index\": 2.0, \"amount\": 12.05}, {\"index\": 96.0, \"amount\": 12.05}, {\"index\": 225.0, \"amount\": 11.05}, {\"index\": 42.0, \"amount\": 11.05}, {\"index\": 126.0, \"amount\": 10.05}, {\"index\": 37.0, \"amount\": 10.05}, {\"index\": 31.0, \"amount\": 10.05}, {\"index\": 112500.0, \"amount\": 9.05}, {\"index\": 160.0, \"amount\": 9.05}, {\"index\": 23.0, \"amount\": 9.05}, {\"index\": 35000.0, \"amount\": 9.05}, {\"index\": 8.0, \"amount\": 9.05}, {\"index\": 60000.0, \"amount\": 9.05}, {\"index\": 186.0, \"amount\": 8.05}, {\"index\": 138.0, \"amount\": 8.05}, {\"index\": 285.0, \"amount\": 8.05}, {\"index\": 123.0, \"amount\": 8.05}, {\"index\": 13.0, \"amount\": 8.05}, {\"index\": 255.0, \"amount\": 8.05}, {\"index\": 115.0, \"amount\": 8.05}, {\"index\": 28.0, \"amount\": 7.05}, {\"index\": 658000.0, \"amount\": 7.05}, {\"index\": 45000.0, \"amount\": 7.05}, {\"index\": 210.0, \"amount\": 7.05}, {\"index\": 166.67, \"amount\": 7.05}, {\"index\": 48.49, \"amount\": 7.05}, {\"index\": 166.0, \"amount\": 6.05}, {\"index\": 266.0, \"amount\": 6.05}, {\"index\": 9.0, \"amount\": 6.05}, {\"index\": 271000.0, \"amount\": 6.05}, {\"index\": 3750.0, \"amount\": 6.05}, {\"index\": 1250.0, \"amount\": 6.05}, {\"index\": 5.4, \"amount\": 6.05}, {\"index\": 300000.0, \"amount\": 6.05}, {\"index\": 217.5, \"amount\": 6.05}, {\"index\": 32.0, \"amount\": 6.05}, {\"index\": 80000.0, \"amount\": 6.05}, {\"index\": 19.0, \"amount\": 6.05}, {\"index\": 400000.0, \"amount\": 6.05}, {\"index\": 14.0, \"amount\": 6.05}, {\"index\": 1075000.0, \"amount\": 6.05}, {\"index\": 2000000.0, \"amount\": 5.05}, {\"index\": 590.0, \"amount\": 5.05}, {\"index\": 59.0, \"amount\": 5.05}, {\"index\": 83.34, \"amount\": 5.05}, {\"index\": 41000.0, \"amount\": 5.05}, {\"index\": 111000.0, \"amount\": 5.05}, {\"index\": 231403.67, \"amount\": 5.05}, {\"index\": 12000.0, \"amount\": 5.05}, {\"index\": 2800000.0, \"amount\": 5.05}, {\"index\": 115000.0, \"amount\": 4.05}, {\"index\": 65.0, \"amount\": 4.05}, {\"index\": 1352000.0, \"amount\": 4.05}, {\"index\": 330.0, \"amount\": 4.05}, {\"index\": 270.0, \"amount\": 4.05}, {\"index\": 4150000.0, \"amount\": 4.05}, {\"index\": 155.0, \"amount\": 4.05}, {\"index\": 83.0, \"amount\": 4.05}, {\"index\": 190.0, \"amount\": 4.05}, {\"index\": -50.0, \"amount\": 4.05}, {\"index\": 510.0, \"amount\": 4.05}, {\"index\": 14567.5, \"amount\": 4.05}, {\"index\": 38087.21, \"amount\": 4.05}, {\"index\": 1200.0, \"amount\": 4.05}, {\"index\": 1.5, \"amount\": 4.05}, {\"index\": -1000.0, \"amount\": 4.05}, {\"index\": 85.0, \"amount\": 4.05}, {\"index\": 70000.0, \"amount\": 4.05}, {\"index\": 39.0, \"amount\": 4.05}, {\"index\": 14000.0, \"amount\": 4.05}, {\"index\": 95.0, \"amount\": 4.05}, {\"index\": -20.0, \"amount\": 4.05}, {\"index\": 198.0, \"amount\": 4.05}, {\"index\": 16.67, \"amount\": 4.05}, {\"index\": 15090.5, \"amount\": 4.05}, {\"index\": -500.0, \"amount\": 4.05}, {\"index\": 14722.0, \"amount\": 4.05}, {\"index\": 4.0, \"amount\": 4.05}, {\"index\": 41.0, \"amount\": 4.05}, {\"index\": 62.0, \"amount\": 4.05}, {\"index\": 101.0, \"amount\": 3.05}, {\"index\": 2500000.0, \"amount\": 3.05}, {\"index\": 3000000.0, \"amount\": 3.05}, {\"index\": 800.0, \"amount\": 3.05}, {\"index\": 159.0, \"amount\": 3.05}, {\"index\": 420000.0, \"amount\": 3.05}, {\"index\": 55000.0, \"amount\": 3.05}, {\"index\": 4000000.0, \"amount\": 3.05}, {\"index\": -250.0, \"amount\": 3.05}, {\"index\": 3500.0, \"amount\": 3.05}, {\"index\": 74.0, \"amount\": 3.05}, {\"index\": 85000.0, \"amount\": 3.05}, {\"index\": 12.5, \"amount\": 3.05}, {\"index\": 700.0, \"amount\": 3.05}, {\"index\": 140.0, \"amount\": 3.05}, {\"index\": 501.0, \"amount\": 3.05}, {\"index\": 33.0, \"amount\": 3.05}, {\"index\": 1800.0, \"amount\": 3.05}, {\"index\": 550000.0, \"amount\": 3.05}, {\"index\": 56.0, \"amount\": 3.05}, {\"index\": 938000.0, \"amount\": 3.05}, {\"index\": 320.0, \"amount\": 3.05}, {\"index\": 325.0, \"amount\": 2.05}, {\"index\": 188.0, \"amount\": 2.05}, {\"index\": 37500.0, \"amount\": 2.05}, {\"index\": 35.53, \"amount\": 2.05}, {\"index\": 2880000.0, \"amount\": 2.05}, {\"index\": 1970000.0, \"amount\": 2.05}, {\"index\": 106.0, \"amount\": 2.05}, {\"index\": 57.0, \"amount\": 2.05}, {\"index\": 3100.0, \"amount\": 2.05}, {\"index\": 280.0, \"amount\": 2.05}, {\"index\": 450.0, \"amount\": 2.05}, {\"index\": 46.0, \"amount\": 2.05}, {\"index\": 122500.0, \"amount\": 2.05}, {\"index\": 38.0, \"amount\": 2.05}, {\"index\": 5500.0, \"amount\": 2.05}, {\"index\": 183.0, \"amount\": 2.05}, {\"index\": 24.0, \"amount\": 2.05}, {\"index\": 44.44, \"amount\": 2.05}, {\"index\": 10675.0, \"amount\": 2.05}, {\"index\": 625.0, \"amount\": 2.05}, {\"index\": 840.0, \"amount\": 2.05}, {\"index\": 154.5, \"amount\": 2.05}, {\"index\": 24117.0, \"amount\": 2.05}, {\"index\": 5700000.0, \"amount\": 2.05}, {\"index\": 2.3, \"amount\": 2.05}, {\"index\": 29538.0, \"amount\": 2.05}, {\"index\": 525.0, \"amount\": 2.05}, {\"index\": 3250.0, \"amount\": 2.05}, {\"index\": 215000.0, \"amount\": 2.05}, {\"index\": 8048.79, \"amount\": 2.05}, {\"index\": 4995.0, \"amount\": 2.05}, {\"index\": 182.0, \"amount\": 2.05}, {\"index\": 43.0, \"amount\": 2.05}, {\"index\": 160000.0, \"amount\": 2.05}, {\"index\": 130704.0, \"amount\": 2.05}, {\"index\": 18970.56, \"amount\": 2.05}, {\"index\": 152.0, \"amount\": 2.05}, {\"index\": 900.0, \"amount\": 2.05}, {\"index\": 102.0, \"amount\": 2.05}, {\"index\": 17000.0, \"amount\": 2.05}, {\"index\": 65000.0, \"amount\": 2.05}, {\"index\": 385000.0, \"amount\": 2.05}, {\"index\": 5000000.0, \"amount\": 2.05}, {\"index\": 140000.0, \"amount\": 2.05}, {\"index\": 29304.0, \"amount\": 2.05}, {\"index\": 95000.0, \"amount\": 2.05}, {\"index\": -900.0, \"amount\": 2.05}, {\"index\": 251.0, \"amount\": 2.05}, {\"index\": 29820.0, \"amount\": 2.05}, {\"index\": 220.0, \"amount\": 2.05}, {\"index\": 340.0, \"amount\": 2.05}, {\"index\": 9995.0, \"amount\": 2.05}, {\"index\": 127.0, \"amount\": 2.05}, {\"index\": 4200.0, \"amount\": 2.05}, {\"index\": 170.0, \"amount\": 2.05}, {\"index\": 114.0, \"amount\": 2.05}, {\"index\": 1500000.0, \"amount\": 2.05}, {\"index\": 49.0, \"amount\": 2.05}, {\"index\": 76.0, \"amount\": 2.05}, {\"index\": 175.0, \"amount\": 2.05}, {\"index\": 29682.0, \"amount\": 2.05}, {\"index\": 92.5, \"amount\": 2.05}, {\"index\": 226.0, \"amount\": 2.05}, {\"index\": 2208395.0, \"amount\": 2.05}, {\"index\": 1250000.0, \"amount\": 2.05}, {\"index\": 97000.0, \"amount\": 2.05}, {\"index\": 8000.0, \"amount\": 2.05}, {\"index\": 72.0, \"amount\": 2.05}, {\"index\": 520.0, \"amount\": 2.05}, {\"index\": 600000.0, \"amount\": 2.05}, {\"index\": 120000.0, \"amount\": 2.05}, {\"index\": 99.0, \"amount\": 2.05}, {\"index\": 123.45, \"amount\": 2.05}, {\"index\": 215.0, \"amount\": 2.05}, {\"index\": 1609.75, \"amount\": 1.05}, {\"index\": 566.0, \"amount\": 1.05}, {\"index\": 3219.5, \"amount\": 1.05}, {\"index\": 5871.41, \"amount\": 1.05}, {\"index\": 6080000.0, \"amount\": 1.05}, {\"index\": 181610.0, \"amount\": 1.05}, {\"index\": 900000.0, \"amount\": 1.05}, {\"index\": 1325.0, \"amount\": 1.05}, {\"index\": 167.22, \"amount\": 1.05}, {\"index\": 17677.0, \"amount\": 1.05}, {\"index\": 356500.0, \"amount\": 1.05}, {\"index\": 667.0, \"amount\": 1.05}, {\"index\": 279.0, \"amount\": 1.05}, {\"index\": 4375.0, \"amount\": 1.05}, {\"index\": 6.0, \"amount\": 1.05}, {\"index\": 32032.0, \"amount\": 1.05}, {\"index\": 5860000.0, \"amount\": 1.05}, {\"index\": 201622.28, \"amount\": 1.05}, {\"index\": 8588736.0, \"amount\": 1.05}, {\"index\": 817.0, \"amount\": 1.05}, {\"index\": 4500.0, \"amount\": 1.05}, {\"index\": 8320.84, \"amount\": 1.05}, {\"index\": 6857.74, \"amount\": 1.05}, {\"index\": 4999.0, \"amount\": 1.05}, {\"index\": 44000.0, \"amount\": 1.05}, {\"index\": 7050.49, \"amount\": 1.05}, {\"index\": 7.33, \"amount\": 1.05}, {\"index\": 227.0, \"amount\": 1.05}, {\"index\": 1050000.0, \"amount\": 1.05}, {\"index\": 222.22, \"amount\": 1.05}, {\"index\": 299175.0, \"amount\": 1.05}, {\"index\": 4300.0, \"amount\": 1.05}, {\"index\": 1517945.0, \"amount\": 1.05}, {\"index\": 408.64, \"amount\": 1.05}, {\"index\": 350000.0, \"amount\": 1.05}, {\"index\": 3500000.0, \"amount\": 1.05}, {\"index\": 212.81, \"amount\": 1.05}, {\"index\": 978094.0, \"amount\": 1.05}, {\"index\": 1200000.0, \"amount\": 1.05}, {\"index\": 6700.0, \"amount\": 1.05}, {\"index\": 205955.0, \"amount\": 1.05}, {\"index\": 7000.0, \"amount\": 1.05}, {\"index\": 39999.0, \"amount\": 1.05}, {\"index\": 700000.0, \"amount\": 1.05}, {\"index\": 1438764.06, \"amount\": 1.05}, {\"index\": 195268.0, \"amount\": 1.05}, {\"index\": -27000.0, \"amount\": 1.05}, {\"index\": 8500000.0, \"amount\": 1.05}, {\"index\": 6650.0, \"amount\": 1.05}, {\"index\": 179732.0, \"amount\": 1.05}, {\"index\": 74.16, \"amount\": 1.05}, {\"index\": 9956700.0, \"amount\": 1.05}, {\"index\": 27333.0, \"amount\": 1.05}, {\"index\": 265.0, \"amount\": 1.05}, {\"index\": 970.0, \"amount\": 1.05}, {\"index\": 28000.0, \"amount\": 1.05}, {\"index\": 108190.0, \"amount\": 1.05}, {\"index\": 354640.0, \"amount\": 1.05}, {\"index\": 871.0, \"amount\": 1.05}, {\"index\": 36000.0, \"amount\": 1.05}, {\"index\": 290.0, \"amount\": 1.05}, {\"index\": 74950.63, \"amount\": 1.05}, {\"index\": 186585.0, \"amount\": 1.05}, {\"index\": 499.0, \"amount\": 1.05}, {\"index\": 652690.0, \"amount\": 1.05}, {\"index\": 7.0, \"amount\": 1.05}, {\"index\": 360.0, \"amount\": 1.05}, {\"index\": 32200.0, \"amount\": 1.05}, {\"index\": 19.43, \"amount\": 1.05}, {\"index\": 29035.55, \"amount\": 1.05}, {\"index\": 2400.0, \"amount\": 1.05}, {\"index\": -150000.0, \"amount\": 1.05}, {\"index\": 1656873.0, \"amount\": 1.05}, {\"index\": 133719.25, \"amount\": 1.05}, {\"index\": 325000.0, \"amount\": 1.05}, {\"index\": -450.0, \"amount\": 1.05}, {\"index\": 1403000.0, \"amount\": 1.05}, {\"index\": 356441.5, \"amount\": 1.05}, {\"index\": 65358.0, \"amount\": 1.05}, {\"index\": 7050000.0, \"amount\": 1.05}, {\"index\": 4629.0, \"amount\": 1.05}, {\"index\": 29795.5, \"amount\": 1.05}, {\"index\": 375000.0, \"amount\": 1.05}, {\"index\": 35.63, \"amount\": 1.05}, {\"index\": 53.0, \"amount\": 1.05}, {\"index\": 4.3, \"amount\": 1.05}, {\"index\": 52000.0, \"amount\": 1.05}, {\"index\": 87.87, \"amount\": 1.05}, {\"index\": 750000.0, \"amount\": 1.05}, {\"index\": 4024.38, \"amount\": 1.05}, {\"index\": 27776.0, \"amount\": 1.05}, {\"index\": 64.0, \"amount\": 1.05}, {\"index\": 25670.5, \"amount\": 1.05}, {\"index\": 62500.0, \"amount\": 1.05}, {\"index\": 2018768.0, \"amount\": 1.05}, {\"index\": 98.0, \"amount\": 1.05}, {\"index\": 7.2, \"amount\": 1.05}, {\"index\": 225000.0, \"amount\": 1.05}, {\"index\": 41334.0, \"amount\": 1.05}, {\"index\": 394681.0, \"amount\": 1.05}, {\"index\": 725.0, \"amount\": 1.05}, {\"index\": 504.0, \"amount\": 1.05}, {\"index\": 9999.0, \"amount\": 1.05}, {\"index\": 4185.0, \"amount\": 1.05}, {\"index\": 10916.1, \"amount\": 1.05}, {\"index\": 990527.0, \"amount\": 1.05}, {\"index\": 187500.0, \"amount\": 1.05}, {\"index\": 137500.0, \"amount\": 1.05}, {\"index\": 124.0, \"amount\": 1.05}, {\"index\": 450000.0, \"amount\": 1.05}, {\"index\": 1154600.0, \"amount\": 1.05}, {\"index\": -109.34, \"amount\": 1.05}, {\"index\": -2450.0, \"amount\": 1.05}, {\"index\": 650.0, \"amount\": 1.05}, {\"index\": 120563.0, \"amount\": 1.05}, {\"index\": 4400.0, \"amount\": 1.05}, {\"index\": 90000.0, \"amount\": 1.05}, {\"index\": 995968.0, \"amount\": 1.05}, {\"index\": -5000.0, \"amount\": 1.05}, {\"index\": 301.0, \"amount\": 1.05}, {\"index\": 3.34, \"amount\": 1.05}, {\"index\": 4024.4, \"amount\": 1.05}, {\"index\": 5625.0, \"amount\": 1.05}, {\"index\": 18150.0, \"amount\": 1.05}, {\"index\": 4024.39, \"amount\": 1.05}, {\"index\": 4973.6, \"amount\": 1.05}, {\"index\": 90906.0, \"amount\": 1.05}, {\"index\": 1066.5, \"amount\": 1.05}, {\"index\": 9904752.0, \"amount\": 1.05}, {\"index\": 14.14, \"amount\": 1.05}, {\"index\": 477.56, \"amount\": 1.05}, {\"index\": -2500.0, \"amount\": 1.05}, {\"index\": 1157535.0, \"amount\": 1.05}, {\"index\": 2089646.0, \"amount\": 1.05}, {\"index\": 13500.0, \"amount\": 1.05}, {\"index\": 75500.0, \"amount\": 1.05}, {\"index\": 33000.0, \"amount\": 1.05}, {\"index\": 318623.0, \"amount\": 1.05}, {\"index\": 52333.0, \"amount\": 1.05}, {\"index\": 156.0, \"amount\": 1.05}, {\"index\": 989630.0, \"amount\": 1.05}, {\"index\": 1155.5, \"amount\": 1.05}, {\"index\": 67.0, \"amount\": 1.05}, {\"index\": 195581.0, \"amount\": 1.05}, {\"index\": 515.0, \"amount\": 1.05}, {\"index\": 1190302.0, \"amount\": 1.05}, {\"index\": 7010000.0, \"amount\": 1.05}, {\"index\": 2800.0, \"amount\": 1.05}, {\"index\": 9000.0, \"amount\": 1.05}, {\"index\": 118.0, \"amount\": 1.05}, {\"index\": 1700000.0, \"amount\": 1.05}, {\"index\": 67000.0, \"amount\": 1.05}, {\"index\": 965390.0, \"amount\": 1.05}, {\"index\": 800000.0, \"amount\": 1.05}, {\"index\": 1105000.0, \"amount\": 1.05}, {\"index\": 42000.0, \"amount\": 1.05}, {\"index\": 72.5, \"amount\": 1.05}, {\"index\": 13000.0, \"amount\": 1.05}, {\"index\": 210057.0, \"amount\": 1.05}, {\"index\": 1261332.0, \"amount\": 1.05}, {\"index\": 44.0, \"amount\": 1.05}, {\"index\": 27246.25, \"amount\": 1.05}, {\"index\": 4544.24, \"amount\": 1.05}, {\"index\": 2179.38, \"amount\": 1.05}, {\"index\": 17500.0, \"amount\": 1.05}, {\"index\": -9000.0, \"amount\": 1.05}, {\"index\": 535000.0, \"amount\": 1.05}, {\"index\": 4250.0, \"amount\": 1.05}, {\"index\": 15.75, \"amount\": 1.05}, {\"index\": 1148576.0, \"amount\": 1.05}, {\"index\": -15000.0, \"amount\": 1.05}, {\"index\": 6500.0, \"amount\": 1.05}, {\"index\": 420.0, \"amount\": 1.05}, {\"index\": 307520.0, \"amount\": 1.05}, {\"index\": 62.26, \"amount\": 1.05}, {\"index\": 403000.0, \"amount\": 1.05}, {\"index\": -300.0, \"amount\": 1.05}, {\"index\": 128817.5, \"amount\": 1.05}, {\"index\": 6000.0, \"amount\": 1.05}, {\"index\": 168952.0, \"amount\": 1.05}, {\"index\": 28895.6, \"amount\": 1.05}, {\"index\": 49500.0, \"amount\": 1.05}, {\"index\": 305675.0, \"amount\": 1.05}, {\"index\": 12500000.0, \"amount\": 1.05}, {\"index\": 9000000.0, \"amount\": 1.05}, {\"index\": 12350.0, \"amount\": 1.05}, {\"index\": 375.0, \"amount\": 1.05}, {\"index\": 10000000.0, \"amount\": 1.05}, {\"index\": 9429.5, \"amount\": 1.05}, {\"index\": 8478390.0, \"amount\": 1.05}, {\"index\": 2300000.0, \"amount\": 1.05}, {\"index\": 16891.91, \"amount\": 1.05}]}}, {\"mode\": \"vega-lite\"});\n</script>",
      "text/plain": [
       "alt.Chart(...)"
      ]
     },
     "metadata": {},
     "execution_count": 85
    }
   ],
   "source": [
    "alt.Chart((contributions.amount.value_counts()+.05).reset_index()).mark_bar().encode(x=alt.X(\"index\", axis=alt.Axis(title=\"Contribution Amount\")), y=alt.Y(\"amount\", scale=alt.Scale(type=\"log\")))"
   ]
  },
  {
   "cell_type": "code",
   "execution_count": 86,
   "id": "permanent-newspaper",
   "metadata": {},
   "outputs": [
    {
     "output_type": "execute_result",
     "data": {
      "text/html": "\n<div id=\"altair-viz-258cb16c048049d5a0c72ac1e105cb59\"></div>\n<script type=\"text/javascript\">\n  (function(spec, embedOpt){\n    let outputDiv = document.currentScript.previousElementSibling;\n    if (outputDiv.id !== \"altair-viz-258cb16c048049d5a0c72ac1e105cb59\") {\n      outputDiv = document.getElementById(\"altair-viz-258cb16c048049d5a0c72ac1e105cb59\");\n    }\n    const paths = {\n      \"vega\": \"https://cdn.jsdelivr.net/npm//vega@5?noext\",\n      \"vega-lib\": \"https://cdn.jsdelivr.net/npm//vega-lib?noext\",\n      \"vega-lite\": \"https://cdn.jsdelivr.net/npm//vega-lite@4.8.1?noext\",\n      \"vega-embed\": \"https://cdn.jsdelivr.net/npm//vega-embed@6?noext\",\n    };\n\n    function loadScript(lib) {\n      return new Promise(function(resolve, reject) {\n        var s = document.createElement('script');\n        s.src = paths[lib];\n        s.async = true;\n        s.onload = () => resolve(paths[lib]);\n        s.onerror = () => reject(`Error loading script: ${paths[lib]}`);\n        document.getElementsByTagName(\"head\")[0].appendChild(s);\n      });\n    }\n\n    function showError(err) {\n      outputDiv.innerHTML = `<div class=\"error\" style=\"color:red;\">${err}</div>`;\n      throw err;\n    }\n\n    function displayChart(vegaEmbed) {\n      vegaEmbed(outputDiv, spec, embedOpt)\n        .catch(err => showError(`Javascript Error: ${err.message}<br>This usually means there's a typo in your chart specification. See the javascript console for the full traceback.`));\n    }\n\n    if(typeof define === \"function\" && define.amd) {\n      requirejs.config({paths});\n      require([\"vega-embed\"], displayChart, err => showError(`Error loading script: ${err.message}`));\n    } else if (typeof vegaEmbed === \"function\") {\n      displayChart(vegaEmbed);\n    } else {\n      loadScript(\"vega\")\n        .then(() => loadScript(\"vega-lite\"))\n        .then(() => loadScript(\"vega-embed\"))\n        .catch(showError)\n        .then(() => displayChart(vegaEmbed));\n    }\n  })({\"config\": {\"view\": {\"continuousWidth\": 400, \"continuousHeight\": 300}}, \"data\": {\"name\": \"data-bd2632b21ee2485ce930529cad401872\"}, \"mark\": \"bar\", \"encoding\": {\"x\": {\"type\": \"quantitative\", \"axis\": {\"title\": \"Contribution Amount\"}, \"field\": \"index\"}, \"y\": {\"type\": \"quantitative\", \"field\": \"amount\", \"scale\": {\"type\": \"log\"}}}, \"$schema\": \"https://vega.github.io/schema/vega-lite/v4.8.1.json\", \"datasets\": {\"data-bd2632b21ee2485ce930529cad401872\": [{\"index\": 287.08, \"amount\": 28612.05}, {\"index\": 100.0, \"amount\": 7626.05}, {\"index\": 25.0, \"amount\": 3749.05}, {\"index\": 50.0, \"amount\": 3188.05}, {\"index\": 250.0, \"amount\": 953.05}, {\"index\": 15.0, \"amount\": 920.05}, {\"index\": 10.0, \"amount\": 900.05}, {\"index\": 150.0, \"amount\": 556.05}, {\"index\": 60.0, \"amount\": 528.05}, {\"index\": 5.0, \"amount\": 505.05}, {\"index\": 200.0, \"amount\": 499.05}, {\"index\": 20.0, \"amount\": 417.05}, {\"index\": 75.0, \"amount\": 333.05}, {\"index\": 45.0, \"amount\": 297.05}, {\"index\": 35.0, \"amount\": 233.05}, {\"index\": 185.0, \"amount\": 232.05}, {\"index\": 120.0, \"amount\": 227.05}, {\"index\": 90.0, \"amount\": 198.05}, {\"index\": 130.0, \"amount\": 179.05}, {\"index\": 105.0, \"amount\": 161.05}, {\"index\": 30.0, \"amount\": 151.05}, {\"index\": 300.0, \"amount\": 118.05}, {\"index\": 180.0, \"amount\": 112.05}, {\"index\": 40.0, \"amount\": 103.05}, {\"index\": 3.0, \"amount\": 96.05}, {\"index\": 66.0, \"amount\": 56.05}, {\"index\": 135.0, \"amount\": 54.05}, {\"index\": 63.0, \"amount\": 49.05}, {\"index\": 51.0, \"amount\": 44.05}, {\"index\": 125.0, \"amount\": 41.05}, {\"index\": 365.0, \"amount\": 38.05}, {\"index\": 400.0, \"amount\": 38.05}, {\"index\": 48.0, \"amount\": 38.05}, {\"index\": 16.0, \"amount\": 36.05}, {\"index\": 78.0, \"amount\": 36.05}, {\"index\": 145.0, \"amount\": 35.05}, {\"index\": 165.0, \"amount\": 34.05}, {\"index\": 370.0, \"amount\": 32.05}, {\"index\": 195.0, \"amount\": 31.05}, {\"index\": 54.0, \"amount\": 31.05}, {\"index\": 81.0, \"amount\": 28.05}, {\"index\": 27.0, \"amount\": 28.05}, {\"index\": 93.0, \"amount\": 27.05}, {\"index\": 17.0, \"amount\": 26.05}, {\"index\": 36.0, \"amount\": 26.05}, {\"index\": 22.0, \"amount\": 20.05}, {\"index\": 295.0, \"amount\": 19.05}, {\"index\": 11.0, \"amount\": 19.05}, {\"index\": 110.0, \"amount\": 18.05}, {\"index\": 12.0, \"amount\": 18.05}, {\"index\": 1.0, \"amount\": 17.05}, {\"index\": 21.0, \"amount\": 16.05}, {\"index\": 18.0, \"amount\": 16.05}, {\"index\": 147.5, \"amount\": 16.05}, {\"index\": 69.0, \"amount\": 16.05}, {\"index\": 0.0, \"amount\": 16.05}, {\"index\": 240.0, \"amount\": 16.05}, {\"index\": 111.0, \"amount\": 15.05}, {\"index\": 260.0, \"amount\": 15.05}, {\"index\": 108.0, \"amount\": 15.05}, {\"index\": 277.5, \"amount\": 15.05}, {\"index\": 80.0, \"amount\": 14.05}, {\"index\": 26.0, \"amount\": 14.05}, {\"index\": 70.0, \"amount\": 14.05}, {\"index\": 55.0, \"amount\": 13.05}, {\"index\": 350.0, \"amount\": 13.05}, {\"index\": 96.0, \"amount\": 12.05}, {\"index\": 84.0, \"amount\": 12.05}, {\"index\": 33.34, \"amount\": 12.05}, {\"index\": 2.0, \"amount\": 12.05}, {\"index\": 153.0, \"amount\": 12.05}, {\"index\": 225.0, \"amount\": 11.05}, {\"index\": 42.0, \"amount\": 11.05}, {\"index\": 31.0, \"amount\": 10.05}, {\"index\": 37.0, \"amount\": 10.05}, {\"index\": 126.0, \"amount\": 10.05}, {\"index\": 23.0, \"amount\": 9.05}, {\"index\": 160.0, \"amount\": 9.05}, {\"index\": 8.0, \"amount\": 9.05}, {\"index\": 138.0, \"amount\": 8.05}, {\"index\": 285.0, \"amount\": 8.05}, {\"index\": 123.0, \"amount\": 8.05}, {\"index\": 115.0, \"amount\": 8.05}, {\"index\": 186.0, \"amount\": 8.05}, {\"index\": 255.0, \"amount\": 8.05}, {\"index\": 13.0, \"amount\": 8.05}, {\"index\": 166.67, \"amount\": 7.05}, {\"index\": 28.0, \"amount\": 7.05}, {\"index\": 48.49, \"amount\": 7.05}, {\"index\": 210.0, \"amount\": 7.05}, {\"index\": 266.0, \"amount\": 6.05}, {\"index\": 217.5, \"amount\": 6.05}, {\"index\": 166.0, \"amount\": 6.05}, {\"index\": 14.0, \"amount\": 6.05}, {\"index\": 9.0, \"amount\": 6.05}, {\"index\": 32.0, \"amount\": 6.05}, {\"index\": 5.4, \"amount\": 6.05}, {\"index\": 19.0, \"amount\": 6.05}, {\"index\": 83.34, \"amount\": 5.05}, {\"index\": 59.0, \"amount\": 5.05}, {\"index\": 41.0, \"amount\": 4.05}, {\"index\": 95.0, \"amount\": 4.05}, {\"index\": 1.5, \"amount\": 4.05}, {\"index\": 270.0, \"amount\": 4.05}, {\"index\": 62.0, \"amount\": 4.05}, {\"index\": 330.0, \"amount\": 4.05}, {\"index\": 198.0, \"amount\": 4.05}, {\"index\": 190.0, \"amount\": 4.05}, {\"index\": 65.0, \"amount\": 4.05}, {\"index\": 155.0, \"amount\": 4.05}, {\"index\": 85.0, \"amount\": 4.05}, {\"index\": 16.67, \"amount\": 4.05}, {\"index\": 83.0, \"amount\": 4.05}, {\"index\": 4.0, \"amount\": 4.05}, {\"index\": 39.0, \"amount\": 4.05}, {\"index\": 12.5, \"amount\": 3.05}, {\"index\": 140.0, \"amount\": 3.05}, {\"index\": 33.0, \"amount\": 3.05}, {\"index\": 56.0, \"amount\": 3.05}, {\"index\": 450.0, \"amount\": 3.05}, {\"index\": 320.0, \"amount\": 3.05}, {\"index\": 74.0, \"amount\": 3.05}, {\"index\": 101.0, \"amount\": 3.05}, {\"index\": 159.0, \"amount\": 3.05}, {\"index\": 114.0, \"amount\": 2.05}, {\"index\": 44.44, \"amount\": 2.05}, {\"index\": 24.0, \"amount\": 2.05}, {\"index\": 170.0, \"amount\": 2.05}, {\"index\": 46.0, \"amount\": 2.05}, {\"index\": 102.0, \"amount\": 2.05}, {\"index\": 154.5, \"amount\": 2.05}, {\"index\": 226.0, \"amount\": 2.05}, {\"index\": 57.0, \"amount\": 2.05}, {\"index\": 35.53, \"amount\": 2.05}, {\"index\": 76.0, \"amount\": 2.05}, {\"index\": 152.0, \"amount\": 2.05}, {\"index\": 92.5, \"amount\": 2.05}, {\"index\": 72.0, \"amount\": 2.05}, {\"index\": 38.0, \"amount\": 2.05}, {\"index\": 280.0, \"amount\": 2.05}, {\"index\": 220.0, \"amount\": 2.05}, {\"index\": 340.0, \"amount\": 2.05}, {\"index\": 182.0, \"amount\": 2.05}, {\"index\": 106.0, \"amount\": 2.05}, {\"index\": 325.0, \"amount\": 2.05}, {\"index\": 2.3, \"amount\": 2.05}, {\"index\": 123.45, \"amount\": 2.05}, {\"index\": 175.0, \"amount\": 2.05}, {\"index\": 183.0, \"amount\": 2.05}, {\"index\": 251.0, \"amount\": 2.05}, {\"index\": 99.0, \"amount\": 2.05}, {\"index\": 43.0, \"amount\": 2.05}, {\"index\": 49.0, \"amount\": 2.05}, {\"index\": 215.0, \"amount\": 2.05}, {\"index\": 127.0, \"amount\": 2.05}, {\"index\": 188.0, \"amount\": 2.05}, {\"index\": 227.0, \"amount\": 1.05}, {\"index\": 265.0, \"amount\": 1.05}, {\"index\": 477.56, \"amount\": 1.05}, {\"index\": 124.0, \"amount\": 1.05}, {\"index\": 44.0, \"amount\": 1.05}, {\"index\": 14.14, \"amount\": 1.05}, {\"index\": 3.34, \"amount\": 1.05}, {\"index\": 222.22, \"amount\": 1.05}, {\"index\": 301.0, \"amount\": 1.05}, {\"index\": 7.33, \"amount\": 1.05}, {\"index\": 4.3, \"amount\": 1.05}, {\"index\": 109.34, \"amount\": 1.05}, {\"index\": 212.81, \"amount\": 1.05}, {\"index\": 53.0, \"amount\": 1.05}, {\"index\": 408.64, \"amount\": 1.05}, {\"index\": 7.2, \"amount\": 1.05}, {\"index\": 35.63, \"amount\": 1.05}, {\"index\": 62.26, \"amount\": 1.05}, {\"index\": 118.0, \"amount\": 1.05}, {\"index\": 67.0, \"amount\": 1.05}, {\"index\": 156.0, \"amount\": 1.05}, {\"index\": 420.0, \"amount\": 1.05}, {\"index\": 375.0, \"amount\": 1.05}, {\"index\": 279.0, \"amount\": 1.05}, {\"index\": 167.22, \"amount\": 1.05}, {\"index\": 6.0, \"amount\": 1.05}, {\"index\": 499.0, \"amount\": 1.05}, {\"index\": 87.87, \"amount\": 1.05}, {\"index\": 98.0, \"amount\": 1.05}, {\"index\": 64.0, \"amount\": 1.05}, {\"index\": 15.75, \"amount\": 1.05}, {\"index\": 290.0, \"amount\": 1.05}, {\"index\": 7.0, \"amount\": 1.05}, {\"index\": 19.43, \"amount\": 1.05}, {\"index\": 72.5, \"amount\": 1.05}, {\"index\": 360.0, \"amount\": 1.05}, {\"index\": 74.16, \"amount\": 1.05}]}}, {\"mode\": \"vega-lite\"});\n</script>",
      "text/plain": [
       "alt.Chart(...)"
      ]
     },
     "metadata": {},
     "execution_count": 86
    }
   ],
   "source": [
    "alt.Chart((contributions[contributions.amount.abs()<500].amount.abs().value_counts()+.05).reset_index()).mark_bar().encode(x=alt.X(\"index\", axis=alt.Axis(title=\"Contribution Amount\")), y=alt.Y(\"amount\", scale=alt.Scale(type=\"log\")))"
   ]
  },
  {
   "cell_type": "markdown",
   "id": "assigned-pocket",
   "metadata": {},
   "source": [
    "### Number of committees per proposition"
   ]
  },
  {
   "cell_type": "code",
   "execution_count": 87,
   "id": "productive-bruce",
   "metadata": {},
   "outputs": [
    {
     "output_type": "execute_result",
     "data": {
      "text/html": "\n<div id=\"altair-viz-7f406baab5494c4ebe258203b5b0d6c7\"></div>\n<script type=\"text/javascript\">\n  (function(spec, embedOpt){\n    let outputDiv = document.currentScript.previousElementSibling;\n    if (outputDiv.id !== \"altair-viz-7f406baab5494c4ebe258203b5b0d6c7\") {\n      outputDiv = document.getElementById(\"altair-viz-7f406baab5494c4ebe258203b5b0d6c7\");\n    }\n    const paths = {\n      \"vega\": \"https://cdn.jsdelivr.net/npm//vega@5?noext\",\n      \"vega-lib\": \"https://cdn.jsdelivr.net/npm//vega-lib?noext\",\n      \"vega-lite\": \"https://cdn.jsdelivr.net/npm//vega-lite@4.8.1?noext\",\n      \"vega-embed\": \"https://cdn.jsdelivr.net/npm//vega-embed@6?noext\",\n    };\n\n    function loadScript(lib) {\n      return new Promise(function(resolve, reject) {\n        var s = document.createElement('script');\n        s.src = paths[lib];\n        s.async = true;\n        s.onload = () => resolve(paths[lib]);\n        s.onerror = () => reject(`Error loading script: ${paths[lib]}`);\n        document.getElementsByTagName(\"head\")[0].appendChild(s);\n      });\n    }\n\n    function showError(err) {\n      outputDiv.innerHTML = `<div class=\"error\" style=\"color:red;\">${err}</div>`;\n      throw err;\n    }\n\n    function displayChart(vegaEmbed) {\n      vegaEmbed(outputDiv, spec, embedOpt)\n        .catch(err => showError(`Javascript Error: ${err.message}<br>This usually means there's a typo in your chart specification. See the javascript console for the full traceback.`));\n    }\n\n    if(typeof define === \"function\" && define.amd) {\n      requirejs.config({paths});\n      require([\"vega-embed\"], displayChart, err => showError(`Error loading script: ${err.message}`));\n    } else if (typeof vegaEmbed === \"function\") {\n      displayChart(vegaEmbed);\n    } else {\n      loadScript(\"vega\")\n        .then(() => loadScript(\"vega-lite\"))\n        .then(() => loadScript(\"vega-embed\"))\n        .catch(showError)\n        .then(() => displayChart(vegaEmbed));\n    }\n  })({\"config\": {\"view\": {\"continuousWidth\": 400, \"continuousHeight\": 300}}, \"data\": {\"name\": \"data-184998a217388fa3253b5895b280d6db\"}, \"mark\": \"bar\", \"encoding\": {\"x\": {\"type\": \"quantitative\", \"field\": \"prop_name\"}, \"y\": {\"type\": \"nominal\", \"field\": \"index\", \"sort\": \"-x\"}}, \"$schema\": \"https://vega.github.io/schema/vega-lite/v4.8.1.json\", \"datasets\": {\"data-184998a217388fa3253b5895b280d6db\": [{\"index\": \"PROPOSITION 057 - CRIMINAL SENTENCES. JUVENILE CRIMINAL PROCEEDINGS AND SENTENCING. INITIATIVE CONSTITUTIONAL AMENDMENT AND STATUTE.\", \"prop_name\": 13}, {\"index\": \"PROPOSITION 056 - CIGARETTE TAX TO FUND HEALTHCARE, TOBACCO USE PREVENTION, RESEARCH, AND LAW ENFORCEMENT. INITIATIVE CONSTITUTIONAL AMENDMENT AND STATUTE.\", \"prop_name\": 12}, {\"index\": \"PROPOSITION 064- MARIJUANA LEGALIZATION. INITIATIVE STATUTE.\", \"prop_name\": 11}, {\"index\": \"PROPOSITION 066- DEATH PENALTY. PROCEDURES. INITIATIVE STATUTE.\", \"prop_name\": 9}, {\"index\": \"PROPOSITION 055 - TAX EXTENSION TO FUND EDUCATION AND HEALTHCARE. INITIATIVE CONSTITUTIONAL AMENDMENT.\", \"prop_name\": 8}, {\"index\": \"PROPOSITION 067- REFERENDUM TO OVERTURN BAN ON SINGLE-USE PLASTIC BAGS.\", \"prop_name\": 7}, {\"index\": \"PROPOSITION 062- DEATH PENALTY. INITIATIVE STATUTE.\", \"prop_name\": 7}, {\"index\": \"PROPOSITION 059- SB 254 (CHAPTER 20, STATUTES OF 2016), ALLEN. CAMPAIGN FINANCE: VOTER INSTRUCTION\", \"prop_name\": 6}, {\"index\": \"PROPOSITION 053 - REVENUE BONDS. STATEWIDE VOTER APPROVAL. INITIATIVE CONSTITUTIONAL AMENDMENT.\", \"prop_name\": 4}, {\"index\": \"PROPOSITION 051 - SCHOOL BONDS. FUNDING FOR K-12 SCHOOL AND COMMUNITY COLLEGE FACILITIES. INITIATIVE STATUTORY AMENDMENT.\", \"prop_name\": 4}, {\"index\": \"PROPOSITION 063- FIREARMS. AMMUNITION SALES. INTIATIVE STATUTE.\", \"prop_name\": 4}, {\"index\": \"PROPOSITION 058 - SB 1174 (CHAPTER 753, STATUTES OF 2014), LARA. ENGLISH LANGUAGE EDUCATION\", \"prop_name\": 4}, {\"index\": \"PROPOSITION 054 - LEGISLATURE. LEGISLATION AND PROCEEDINGS. INITIATIVE CONSTITUTIONAL AMENDMENT AND STATUTE.\", \"prop_name\": 4}, {\"index\": \"PROPOSITION 061- STATE PRESCRIPTION DRUG PURCHASES. PRICING STANDARDS. INITIATIVE STATUTE.\", \"prop_name\": 3}, {\"index\": \"PROPOSITION 052 - STATE FEES ON HOSPITALS. FEDERAL MEDI-CAL MATCHING FUNDS. INITIATIVE STATUTORY AND CONSTITUTIONAL AMENDMENT.\", \"prop_name\": 3}, {\"index\": \"PROPOSITION 060- ADULT FILMS. CONDOMS. HEALTH REQUIREMENTS. INITIATIVE STATUTE.\", \"prop_name\": 2}, {\"index\": \"PROPOSITION 065- CARRY-OUT BAGS. CHARGES. INITIATIVE STATUTE.\", \"prop_name\": 1}]}}, {\"mode\": \"vega-lite\"});\n</script>",
      "text/plain": [
       "alt.Chart(...)"
      ]
     },
     "metadata": {},
     "execution_count": 87
    }
   ],
   "source": [
    "alt.Chart(committees.prop_name.value_counts().reset_index()).mark_bar().encode(x=\"prop_name\",y=alt.Y(\"index\", sort='-x'))"
   ]
  },
  {
   "cell_type": "markdown",
   "id": "municipal-boring",
   "metadata": {},
   "source": [
    "## Propositions"
   ]
  },
  {
   "cell_type": "code",
   "execution_count": 88,
   "id": "innovative-final",
   "metadata": {},
   "outputs": [],
   "source": [
    "prop62 = 'PROPOSITION 062- DEATH PENALTY. INITIATIVE STATUTE.'\n",
    "prop63 = 'PROPOSITION 063- FIREARMS. AMMUNITION SALES. INTIATIVE STATUTE.'\n",
    "prop64 = 'PROPOSITION 064- MARIJUANA LEGALIZATION. INITIATIVE STATUTE.'\n",
    "prop65 = 'PROPOSITION 065- CARRY-OUT BAGS. CHARGES. INITIATIVE STATUTE.'\n",
    "prop67 = 'PROPOSITION 067- REFERENDUM TO OVERTURN BAN ON SINGLE-USE PLASTIC BAGS.'\n",
    "propcommittees = committees[committees.prop_name == prop67]"
   ]
  },
  {
   "cell_type": "code",
   "execution_count": 89,
   "id": "interesting-tract",
   "metadata": {},
   "outputs": [],
   "source": [
    "merged=pd.merge(propcommittees, contributions, on=\"calaccess_committee_id\")\n",
    "support=merged[merged.committee_position==\"SUPPORT\"]\n",
    "oppose=merged[merged.committee_position==\"OPPOSE\"]"
   ]
  },
  {
   "cell_type": "markdown",
   "id": "portuguese-sewing",
   "metadata": {},
   "source": [
    "### Contribution Totals by Stance"
   ]
  },
  {
   "cell_type": "code",
   "execution_count": 90,
   "id": "nonprofit-lithuania",
   "metadata": {},
   "outputs": [
    {
     "output_type": "stream",
     "name": "stdout",
     "text": [
      "A total of $1789160 was contributed in support of this proposition\nA total of $2681413 was contributed in opposition to this proposition\n"
     ]
    }
   ],
   "source": [
    "print(f'A total of ${int(support.amount.sum())} was contributed in support of this proposition')\n",
    "print(f'A total of ${int(oppose.amount.sum())} was contributed in opposition to this proposition')"
   ]
  },
  {
   "cell_type": "markdown",
   "id": "proud-layout",
   "metadata": {},
   "source": [
    "### Five Largest Contributions on this Prop"
   ]
  },
  {
   "cell_type": "code",
   "execution_count": 91,
   "id": "fifteen-karma",
   "metadata": {},
   "outputs": [
    {
     "output_type": "execute_result",
     "data": {
      "text/html": "\n<div id=\"altair-viz-5c937e0d18c94c078b951d68042fc457\"></div>\n<script type=\"text/javascript\">\n  (function(spec, embedOpt){\n    let outputDiv = document.currentScript.previousElementSibling;\n    if (outputDiv.id !== \"altair-viz-5c937e0d18c94c078b951d68042fc457\") {\n      outputDiv = document.getElementById(\"altair-viz-5c937e0d18c94c078b951d68042fc457\");\n    }\n    const paths = {\n      \"vega\": \"https://cdn.jsdelivr.net/npm//vega@5?noext\",\n      \"vega-lib\": \"https://cdn.jsdelivr.net/npm//vega-lib?noext\",\n      \"vega-lite\": \"https://cdn.jsdelivr.net/npm//vega-lite@4.8.1?noext\",\n      \"vega-embed\": \"https://cdn.jsdelivr.net/npm//vega-embed@6?noext\",\n    };\n\n    function loadScript(lib) {\n      return new Promise(function(resolve, reject) {\n        var s = document.createElement('script');\n        s.src = paths[lib];\n        s.async = true;\n        s.onload = () => resolve(paths[lib]);\n        s.onerror = () => reject(`Error loading script: ${paths[lib]}`);\n        document.getElementsByTagName(\"head\")[0].appendChild(s);\n      });\n    }\n\n    function showError(err) {\n      outputDiv.innerHTML = `<div class=\"error\" style=\"color:red;\">${err}</div>`;\n      throw err;\n    }\n\n    function displayChart(vegaEmbed) {\n      vegaEmbed(outputDiv, spec, embedOpt)\n        .catch(err => showError(`Javascript Error: ${err.message}<br>This usually means there's a typo in your chart specification. See the javascript console for the full traceback.`));\n    }\n\n    if(typeof define === \"function\" && define.amd) {\n      requirejs.config({paths});\n      require([\"vega-embed\"], displayChart, err => showError(`Error loading script: ${err.message}`));\n    } else if (typeof vegaEmbed === \"function\") {\n      displayChart(vegaEmbed);\n    } else {\n      loadScript(\"vega\")\n        .then(() => loadScript(\"vega-lite\"))\n        .then(() => loadScript(\"vega-embed\"))\n        .catch(showError)\n        .then(() => displayChart(vegaEmbed));\n    }\n  })({\"config\": {\"view\": {\"continuousWidth\": 400, \"continuousHeight\": 300}}, \"data\": {\"name\": \"data-7d05d7099ef7ca4d2f26da33573391cf\"}, \"mark\": \"bar\", \"encoding\": {\"x\": {\"type\": \"quantitative\", \"field\": \"amount\"}, \"y\": {\"type\": \"nominal\", \"field\": \"contributor_lastname\", \"sort\": \"-x\"}}, \"$schema\": \"https://vega.github.io/schema/vega-lite/v4.8.1.json\", \"datasets\": {\"data-7d05d7099ef7ca4d2f26da33573391cf\": [{\"ocd_prop_id\": \"ocd-contest/7495cdbe-1aa7-4c26-9a55-aa4130347b95\", \"calaccess_prop_id\": 1372638, \"ccdc_prop_id\": 86, \"prop_name\": \"PROPOSITION 067- REFERENDUM TO OVERTURN BAN ON SINGLE-USE PLASTIC BAGS.\", \"ccdc_committee_id\": 478, \"calaccess_committee_id\": 1372902, \"committee_name_x\": \"AMERICAN PROGRESSIVE BAG ALLIANCE, A PROJECT OF THE SOCIETY OF THE PLASTICS INDUSTRY (NON-PROFIT 501 (C) (6)), YES ON 65 AND NO ON 67\", \"committee_position\": \"OPPOSE\", \"committee_name_y\": \"AMERICAN PROGRESSIVE BAG ALLIANCE, A PROJECT OF THE SOCIETY OF THE PLASTICS INDUSTRY (NON-PROFIT 501 (C) (6)), YES ON 65 AND NO ON 67\", \"calaccess_filing_id\": 2038213, \"date_received\": \"2016-01-25\", \"contributor_lastname\": \"FORMOSA PLASTICS CORPORATION U.S.A.\", \"contributor_firstname\": null, \"contributor_city\": \"LIVINGSTON\", \"contributor_state\": \"NJ\", \"contributor_zip\": \"7039\", \"contributor_employer\": null, \"contributor_occupation\": null, \"contributor_is_self_employed\": false, \"amount\": 356441.5}, {\"ocd_prop_id\": \"ocd-contest/7495cdbe-1aa7-4c26-9a55-aa4130347b95\", \"calaccess_prop_id\": 1372638, \"ccdc_prop_id\": 86, \"prop_name\": \"PROPOSITION 067- REFERENDUM TO OVERTURN BAN ON SINGLE-USE PLASTIC BAGS.\", \"ccdc_committee_id\": 478, \"calaccess_committee_id\": 1372902, \"committee_name_x\": \"AMERICAN PROGRESSIVE BAG ALLIANCE, A PROJECT OF THE SOCIETY OF THE PLASTICS INDUSTRY (NON-PROFIT 501 (C) (6)), YES ON 65 AND NO ON 67\", \"committee_position\": \"OPPOSE\", \"committee_name_y\": \"AMERICAN PROGRESSIVE BAG ALLIANCE, A PROJECT OF THE SOCIETY OF THE PLASTICS INDUSTRY (NON-PROFIT 501 (C) (6)), YES ON 65 AND NO ON 67\", \"calaccess_filing_id\": 2012817, \"date_received\": \"2015-10-30\", \"contributor_lastname\": \"FORMOSA PLASTICS CORPORATION U.S.A.\", \"contributor_firstname\": null, \"contributor_city\": \"LIVINGSTON\", \"contributor_state\": \"NJ\", \"contributor_zip\": \"7039\", \"contributor_employer\": null, \"contributor_occupation\": null, \"contributor_is_self_employed\": false, \"amount\": 350000.0}, {\"ocd_prop_id\": \"ocd-contest/7495cdbe-1aa7-4c26-9a55-aa4130347b95\", \"calaccess_prop_id\": 1372638, \"ccdc_prop_id\": 86, \"prop_name\": \"PROPOSITION 067- REFERENDUM TO OVERTURN BAN ON SINGLE-USE PLASTIC BAGS.\", \"ccdc_committee_id\": 478, \"calaccess_committee_id\": 1372902, \"committee_name_x\": \"AMERICAN PROGRESSIVE BAG ALLIANCE, A PROJECT OF THE SOCIETY OF THE PLASTICS INDUSTRY (NON-PROFIT 501 (C) (6)), YES ON 65 AND NO ON 67\", \"committee_position\": \"OPPOSE\", \"committee_name_y\": \"AMERICAN PROGRESSIVE BAG ALLIANCE, A PROJECT OF THE SOCIETY OF THE PLASTICS INDUSTRY (NON-PROFIT 501 (C) (6)), YES ON 65 AND NO ON 67\", \"calaccess_filing_id\": 2038213, \"date_received\": \"2016-01-13\", \"contributor_lastname\": \"HILEX POLY CO. LLC\", \"contributor_firstname\": null, \"contributor_city\": \"HARTSVILLE\", \"contributor_state\": \"SC\", \"contributor_zip\": \"29550\", \"contributor_employer\": null, \"contributor_occupation\": null, \"contributor_is_self_employed\": false, \"amount\": 305675.0}, {\"ocd_prop_id\": \"ocd-contest/7495cdbe-1aa7-4c26-9a55-aa4130347b95\", \"calaccess_prop_id\": 1372638, \"ccdc_prop_id\": 86, \"prop_name\": \"PROPOSITION 067- REFERENDUM TO OVERTURN BAN ON SINGLE-USE PLASTIC BAGS.\", \"ccdc_committee_id\": 478, \"calaccess_committee_id\": 1372902, \"committee_name_x\": \"AMERICAN PROGRESSIVE BAG ALLIANCE, A PROJECT OF THE SOCIETY OF THE PLASTICS INDUSTRY (NON-PROFIT 501 (C) (6)), YES ON 65 AND NO ON 67\", \"committee_position\": \"OPPOSE\", \"committee_name_y\": \"AMERICAN PROGRESSIVE BAG ALLIANCE, A PROJECT OF THE SOCIETY OF THE PLASTICS INDUSTRY (NON-PROFIT 501 (C) (6)), YES ON 65 AND NO ON 67\", \"calaccess_filing_id\": 2038213, \"date_received\": \"2016-01-27\", \"contributor_lastname\": \"HILEX POLY CO. LLC\", \"contributor_firstname\": null, \"contributor_city\": \"HARTSVILLE\", \"contributor_state\": \"SC\", \"contributor_zip\": \"29550\", \"contributor_employer\": null, \"contributor_occupation\": null, \"contributor_is_self_employed\": false, \"amount\": 299175.0}, {\"ocd_prop_id\": \"ocd-contest/7495cdbe-1aa7-4c26-9a55-aa4130347b95\", \"calaccess_prop_id\": 1372638, \"ccdc_prop_id\": 86, \"prop_name\": \"PROPOSITION 067- REFERENDUM TO OVERTURN BAN ON SINGLE-USE PLASTIC BAGS.\", \"ccdc_committee_id\": 478, \"calaccess_committee_id\": 1372902, \"committee_name_x\": \"AMERICAN PROGRESSIVE BAG ALLIANCE, A PROJECT OF THE SOCIETY OF THE PLASTICS INDUSTRY (NON-PROFIT 501 (C) (6)), YES ON 65 AND NO ON 67\", \"committee_position\": \"OPPOSE\", \"committee_name_y\": \"AMERICAN PROGRESSIVE BAG ALLIANCE, A PROJECT OF THE SOCIETY OF THE PLASTICS INDUSTRY (NON-PROFIT 501 (C) (6)), YES ON 65 AND NO ON 67\", \"calaccess_filing_id\": 2012817, \"date_received\": \"2015-11-17\", \"contributor_lastname\": \"HILEX POLY CO. LLC\", \"contributor_firstname\": null, \"contributor_city\": \"HARTSVILLE\", \"contributor_state\": \"SC\", \"contributor_zip\": \"29550\", \"contributor_employer\": null, \"contributor_occupation\": null, \"contributor_is_self_employed\": false, \"amount\": 186585.0}]}}, {\"mode\": \"vega-lite\"});\n</script>",
      "text/plain": [
       "alt.Chart(...)"
      ]
     },
     "metadata": {},
     "execution_count": 91
    }
   ],
   "source": [
    "topfivecontribution=merged.sort_values(\"amount\", ascending=False).head()\n",
    "alt.Chart(topfivecontribution).mark_bar().encode(y=alt.Y(\"contributor_lastname\", sort=\"-x\"),x=\"amount\")"
   ]
  },
  {
   "cell_type": "markdown",
   "id": "demanding-annex",
   "metadata": {},
   "source": [
    "### Five Largest Oppositional Contributions on this Prop"
   ]
  },
  {
   "cell_type": "code",
   "execution_count": 92,
   "id": "legendary-protein",
   "metadata": {},
   "outputs": [
    {
     "output_type": "execute_result",
     "data": {
      "text/html": "\n<div id=\"altair-viz-b96cc8fb55d149fc88bb42cb971720e2\"></div>\n<script type=\"text/javascript\">\n  (function(spec, embedOpt){\n    let outputDiv = document.currentScript.previousElementSibling;\n    if (outputDiv.id !== \"altair-viz-b96cc8fb55d149fc88bb42cb971720e2\") {\n      outputDiv = document.getElementById(\"altair-viz-b96cc8fb55d149fc88bb42cb971720e2\");\n    }\n    const paths = {\n      \"vega\": \"https://cdn.jsdelivr.net/npm//vega@5?noext\",\n      \"vega-lib\": \"https://cdn.jsdelivr.net/npm//vega-lib?noext\",\n      \"vega-lite\": \"https://cdn.jsdelivr.net/npm//vega-lite@4.8.1?noext\",\n      \"vega-embed\": \"https://cdn.jsdelivr.net/npm//vega-embed@6?noext\",\n    };\n\n    function loadScript(lib) {\n      return new Promise(function(resolve, reject) {\n        var s = document.createElement('script');\n        s.src = paths[lib];\n        s.async = true;\n        s.onload = () => resolve(paths[lib]);\n        s.onerror = () => reject(`Error loading script: ${paths[lib]}`);\n        document.getElementsByTagName(\"head\")[0].appendChild(s);\n      });\n    }\n\n    function showError(err) {\n      outputDiv.innerHTML = `<div class=\"error\" style=\"color:red;\">${err}</div>`;\n      throw err;\n    }\n\n    function displayChart(vegaEmbed) {\n      vegaEmbed(outputDiv, spec, embedOpt)\n        .catch(err => showError(`Javascript Error: ${err.message}<br>This usually means there's a typo in your chart specification. See the javascript console for the full traceback.`));\n    }\n\n    if(typeof define === \"function\" && define.amd) {\n      requirejs.config({paths});\n      require([\"vega-embed\"], displayChart, err => showError(`Error loading script: ${err.message}`));\n    } else if (typeof vegaEmbed === \"function\") {\n      displayChart(vegaEmbed);\n    } else {\n      loadScript(\"vega\")\n        .then(() => loadScript(\"vega-lite\"))\n        .then(() => loadScript(\"vega-embed\"))\n        .catch(showError)\n        .then(() => displayChart(vegaEmbed));\n    }\n  })({\"config\": {\"view\": {\"continuousWidth\": 400, \"continuousHeight\": 300}}, \"data\": {\"name\": \"data-7d05d7099ef7ca4d2f26da33573391cf\"}, \"mark\": \"bar\", \"encoding\": {\"x\": {\"type\": \"quantitative\", \"field\": \"amount\"}, \"y\": {\"type\": \"nominal\", \"field\": \"contributor_lastname\", \"sort\": \"-x\"}}, \"$schema\": \"https://vega.github.io/schema/vega-lite/v4.8.1.json\", \"datasets\": {\"data-7d05d7099ef7ca4d2f26da33573391cf\": [{\"ocd_prop_id\": \"ocd-contest/7495cdbe-1aa7-4c26-9a55-aa4130347b95\", \"calaccess_prop_id\": 1372638, \"ccdc_prop_id\": 86, \"prop_name\": \"PROPOSITION 067- REFERENDUM TO OVERTURN BAN ON SINGLE-USE PLASTIC BAGS.\", \"ccdc_committee_id\": 478, \"calaccess_committee_id\": 1372902, \"committee_name_x\": \"AMERICAN PROGRESSIVE BAG ALLIANCE, A PROJECT OF THE SOCIETY OF THE PLASTICS INDUSTRY (NON-PROFIT 501 (C) (6)), YES ON 65 AND NO ON 67\", \"committee_position\": \"OPPOSE\", \"committee_name_y\": \"AMERICAN PROGRESSIVE BAG ALLIANCE, A PROJECT OF THE SOCIETY OF THE PLASTICS INDUSTRY (NON-PROFIT 501 (C) (6)), YES ON 65 AND NO ON 67\", \"calaccess_filing_id\": 2038213, \"date_received\": \"2016-01-25\", \"contributor_lastname\": \"FORMOSA PLASTICS CORPORATION U.S.A.\", \"contributor_firstname\": null, \"contributor_city\": \"LIVINGSTON\", \"contributor_state\": \"NJ\", \"contributor_zip\": \"7039\", \"contributor_employer\": null, \"contributor_occupation\": null, \"contributor_is_self_employed\": false, \"amount\": 356441.5}, {\"ocd_prop_id\": \"ocd-contest/7495cdbe-1aa7-4c26-9a55-aa4130347b95\", \"calaccess_prop_id\": 1372638, \"ccdc_prop_id\": 86, \"prop_name\": \"PROPOSITION 067- REFERENDUM TO OVERTURN BAN ON SINGLE-USE PLASTIC BAGS.\", \"ccdc_committee_id\": 478, \"calaccess_committee_id\": 1372902, \"committee_name_x\": \"AMERICAN PROGRESSIVE BAG ALLIANCE, A PROJECT OF THE SOCIETY OF THE PLASTICS INDUSTRY (NON-PROFIT 501 (C) (6)), YES ON 65 AND NO ON 67\", \"committee_position\": \"OPPOSE\", \"committee_name_y\": \"AMERICAN PROGRESSIVE BAG ALLIANCE, A PROJECT OF THE SOCIETY OF THE PLASTICS INDUSTRY (NON-PROFIT 501 (C) (6)), YES ON 65 AND NO ON 67\", \"calaccess_filing_id\": 2012817, \"date_received\": \"2015-10-30\", \"contributor_lastname\": \"FORMOSA PLASTICS CORPORATION U.S.A.\", \"contributor_firstname\": null, \"contributor_city\": \"LIVINGSTON\", \"contributor_state\": \"NJ\", \"contributor_zip\": \"7039\", \"contributor_employer\": null, \"contributor_occupation\": null, \"contributor_is_self_employed\": false, \"amount\": 350000.0}, {\"ocd_prop_id\": \"ocd-contest/7495cdbe-1aa7-4c26-9a55-aa4130347b95\", \"calaccess_prop_id\": 1372638, \"ccdc_prop_id\": 86, \"prop_name\": \"PROPOSITION 067- REFERENDUM TO OVERTURN BAN ON SINGLE-USE PLASTIC BAGS.\", \"ccdc_committee_id\": 478, \"calaccess_committee_id\": 1372902, \"committee_name_x\": \"AMERICAN PROGRESSIVE BAG ALLIANCE, A PROJECT OF THE SOCIETY OF THE PLASTICS INDUSTRY (NON-PROFIT 501 (C) (6)), YES ON 65 AND NO ON 67\", \"committee_position\": \"OPPOSE\", \"committee_name_y\": \"AMERICAN PROGRESSIVE BAG ALLIANCE, A PROJECT OF THE SOCIETY OF THE PLASTICS INDUSTRY (NON-PROFIT 501 (C) (6)), YES ON 65 AND NO ON 67\", \"calaccess_filing_id\": 2038213, \"date_received\": \"2016-01-13\", \"contributor_lastname\": \"HILEX POLY CO. LLC\", \"contributor_firstname\": null, \"contributor_city\": \"HARTSVILLE\", \"contributor_state\": \"SC\", \"contributor_zip\": \"29550\", \"contributor_employer\": null, \"contributor_occupation\": null, \"contributor_is_self_employed\": false, \"amount\": 305675.0}, {\"ocd_prop_id\": \"ocd-contest/7495cdbe-1aa7-4c26-9a55-aa4130347b95\", \"calaccess_prop_id\": 1372638, \"ccdc_prop_id\": 86, \"prop_name\": \"PROPOSITION 067- REFERENDUM TO OVERTURN BAN ON SINGLE-USE PLASTIC BAGS.\", \"ccdc_committee_id\": 478, \"calaccess_committee_id\": 1372902, \"committee_name_x\": \"AMERICAN PROGRESSIVE BAG ALLIANCE, A PROJECT OF THE SOCIETY OF THE PLASTICS INDUSTRY (NON-PROFIT 501 (C) (6)), YES ON 65 AND NO ON 67\", \"committee_position\": \"OPPOSE\", \"committee_name_y\": \"AMERICAN PROGRESSIVE BAG ALLIANCE, A PROJECT OF THE SOCIETY OF THE PLASTICS INDUSTRY (NON-PROFIT 501 (C) (6)), YES ON 65 AND NO ON 67\", \"calaccess_filing_id\": 2038213, \"date_received\": \"2016-01-27\", \"contributor_lastname\": \"HILEX POLY CO. LLC\", \"contributor_firstname\": null, \"contributor_city\": \"HARTSVILLE\", \"contributor_state\": \"SC\", \"contributor_zip\": \"29550\", \"contributor_employer\": null, \"contributor_occupation\": null, \"contributor_is_self_employed\": false, \"amount\": 299175.0}, {\"ocd_prop_id\": \"ocd-contest/7495cdbe-1aa7-4c26-9a55-aa4130347b95\", \"calaccess_prop_id\": 1372638, \"ccdc_prop_id\": 86, \"prop_name\": \"PROPOSITION 067- REFERENDUM TO OVERTURN BAN ON SINGLE-USE PLASTIC BAGS.\", \"ccdc_committee_id\": 478, \"calaccess_committee_id\": 1372902, \"committee_name_x\": \"AMERICAN PROGRESSIVE BAG ALLIANCE, A PROJECT OF THE SOCIETY OF THE PLASTICS INDUSTRY (NON-PROFIT 501 (C) (6)), YES ON 65 AND NO ON 67\", \"committee_position\": \"OPPOSE\", \"committee_name_y\": \"AMERICAN PROGRESSIVE BAG ALLIANCE, A PROJECT OF THE SOCIETY OF THE PLASTICS INDUSTRY (NON-PROFIT 501 (C) (6)), YES ON 65 AND NO ON 67\", \"calaccess_filing_id\": 2012817, \"date_received\": \"2015-11-17\", \"contributor_lastname\": \"HILEX POLY CO. LLC\", \"contributor_firstname\": null, \"contributor_city\": \"HARTSVILLE\", \"contributor_state\": \"SC\", \"contributor_zip\": \"29550\", \"contributor_employer\": null, \"contributor_occupation\": null, \"contributor_is_self_employed\": false, \"amount\": 186585.0}]}}, {\"mode\": \"vega-lite\"});\n</script>",
      "text/plain": [
       "alt.Chart(...)"
      ]
     },
     "metadata": {},
     "execution_count": 92
    }
   ],
   "source": [
    "topfiveoppose = oppose.sort_values(\"amount\", ascending=False).head()\n",
    "alt.Chart(topfiveoppose).mark_bar().encode(y=alt.Y(\"contributor_lastname\", sort=\"-x\"), x=\"amount\")"
   ]
  },
  {
   "cell_type": "markdown",
   "id": "detailed-croatia",
   "metadata": {},
   "source": [
    "### Five Largest Supporting Contributions on this Prop"
   ]
  },
  {
   "cell_type": "code",
   "execution_count": 93,
   "id": "pediatric-acoustic",
   "metadata": {},
   "outputs": [
    {
     "output_type": "execute_result",
     "data": {
      "text/html": "\n<div id=\"altair-viz-3cd02706e26047ad9bda55ce4eb372f1\"></div>\n<script type=\"text/javascript\">\n  (function(spec, embedOpt){\n    let outputDiv = document.currentScript.previousElementSibling;\n    if (outputDiv.id !== \"altair-viz-3cd02706e26047ad9bda55ce4eb372f1\") {\n      outputDiv = document.getElementById(\"altair-viz-3cd02706e26047ad9bda55ce4eb372f1\");\n    }\n    const paths = {\n      \"vega\": \"https://cdn.jsdelivr.net/npm//vega@5?noext\",\n      \"vega-lib\": \"https://cdn.jsdelivr.net/npm//vega-lib?noext\",\n      \"vega-lite\": \"https://cdn.jsdelivr.net/npm//vega-lite@4.8.1?noext\",\n      \"vega-embed\": \"https://cdn.jsdelivr.net/npm//vega-embed@6?noext\",\n    };\n\n    function loadScript(lib) {\n      return new Promise(function(resolve, reject) {\n        var s = document.createElement('script');\n        s.src = paths[lib];\n        s.async = true;\n        s.onload = () => resolve(paths[lib]);\n        s.onerror = () => reject(`Error loading script: ${paths[lib]}`);\n        document.getElementsByTagName(\"head\")[0].appendChild(s);\n      });\n    }\n\n    function showError(err) {\n      outputDiv.innerHTML = `<div class=\"error\" style=\"color:red;\">${err}</div>`;\n      throw err;\n    }\n\n    function displayChart(vegaEmbed) {\n      vegaEmbed(outputDiv, spec, embedOpt)\n        .catch(err => showError(`Javascript Error: ${err.message}<br>This usually means there's a typo in your chart specification. See the javascript console for the full traceback.`));\n    }\n\n    if(typeof define === \"function\" && define.amd) {\n      requirejs.config({paths});\n      require([\"vega-embed\"], displayChart, err => showError(`Error loading script: ${err.message}`));\n    } else if (typeof vegaEmbed === \"function\") {\n      displayChart(vegaEmbed);\n    } else {\n      loadScript(\"vega\")\n        .then(() => loadScript(\"vega-lite\"))\n        .then(() => loadScript(\"vega-embed\"))\n        .catch(showError)\n        .then(() => displayChart(vegaEmbed));\n    }\n  })({\"config\": {\"view\": {\"continuousWidth\": 400, \"continuousHeight\": 300}}, \"data\": {\"name\": \"data-8a551255af3d9e9c7915e7925d8b779c\"}, \"mark\": \"bar\", \"encoding\": {\"x\": {\"type\": \"quantitative\", \"field\": \"amount\"}, \"y\": {\"type\": \"nominal\", \"field\": \"contributor_lastname\", \"sort\": \"-x\"}}, \"$schema\": \"https://vega.github.io/schema/vega-lite/v4.8.1.json\", \"datasets\": {\"data-8a551255af3d9e9c7915e7925d8b779c\": [{\"ocd_prop_id\": \"ocd-contest/7495cdbe-1aa7-4c26-9a55-aa4130347b95\", \"calaccess_prop_id\": 1372638, \"ccdc_prop_id\": 86, \"prop_name\": \"PROPOSITION 067- REFERENDUM TO OVERTURN BAN ON SINGLE-USE PLASTIC BAGS.\", \"ccdc_committee_id\": 477, \"calaccess_committee_id\": 1372900, \"committee_name_x\": \"YES ON 67 - PROTECT THE PLASTIC BAG BAN, SPONSORED BY ENVIRONMENTAL AND OCEAN PROTECTION ORGANIZATIONS, BUSINESSES INCLUDING GROCERS AND REUSABLE BAG MAKERS, AND OTHER NONPROFIT ORGANIZATIONS\", \"committee_position\": \"SUPPORT\", \"committee_name_y\": \"YES ON 67 - PROTECT THE PLASTIC BAG BAN, SPONSORED BY ENVIRONMENTAL AND OCEAN PROTECTION ORGANIZATIONS, BUSINESSES INCLUDING GROCERS AND REUSABLE BAG MAKERS, AND OTHER NONPROFIT ORGANIZATIONS\", \"calaccess_filing_id\": 2038229, \"date_received\": \"2016-02-11\", \"contributor_lastname\": \"ALBERTSONS SAFEWAY (FORMERLY KNOWN AS SAFEWAY, INC. INCLUDING ITS AFFILIATED ENTITY THE VONS COMPANIES, INC.)\", \"contributor_firstname\": null, \"contributor_city\": \"PHOENIX\", \"contributor_state\": \"AZ\", \"contributor_zip\": \"85027\", \"contributor_employer\": null, \"contributor_occupation\": null, \"contributor_is_self_employed\": false, \"amount\": 150000.0}, {\"ocd_prop_id\": \"ocd-contest/7495cdbe-1aa7-4c26-9a55-aa4130347b95\", \"calaccess_prop_id\": 1372638, \"ccdc_prop_id\": 86, \"prop_name\": \"PROPOSITION 067- REFERENDUM TO OVERTURN BAN ON SINGLE-USE PLASTIC BAGS.\", \"ccdc_committee_id\": 477, \"calaccess_committee_id\": 1372900, \"committee_name_x\": \"YES ON 67 - PROTECT THE PLASTIC BAG BAN, SPONSORED BY ENVIRONMENTAL AND OCEAN PROTECTION ORGANIZATIONS, BUSINESSES INCLUDING GROCERS AND REUSABLE BAG MAKERS, AND OTHER NONPROFIT ORGANIZATIONS\", \"committee_position\": \"SUPPORT\", \"committee_name_y\": \"YES ON 67 - PROTECT THE PLASTIC BAG BAN, SPONSORED BY ENVIRONMENTAL AND OCEAN PROTECTION ORGANIZATIONS, BUSINESSES INCLUDING GROCERS AND REUSABLE BAG MAKERS, AND OTHER NONPROFIT ORGANIZATIONS\", \"calaccess_filing_id\": 1962528, \"date_received\": \"2015-02-24\", \"contributor_lastname\": \"CALIFORNIA GROCERS ASSOCIATION ISSUES COMMITTEE (NON PROFIT 501 (C) 6)\", \"contributor_firstname\": null, \"contributor_city\": \"SACRAMENTO\", \"contributor_state\": \"CA\", \"contributor_zip\": \"95814\", \"contributor_employer\": null, \"contributor_occupation\": null, \"contributor_is_self_employed\": false, \"amount\": 100000.0}, {\"ocd_prop_id\": \"ocd-contest/7495cdbe-1aa7-4c26-9a55-aa4130347b95\", \"calaccess_prop_id\": 1372638, \"ccdc_prop_id\": 86, \"prop_name\": \"PROPOSITION 067- REFERENDUM TO OVERTURN BAN ON SINGLE-USE PLASTIC BAGS.\", \"ccdc_committee_id\": 477, \"calaccess_committee_id\": 1372900, \"committee_name_x\": \"YES ON 67 - PROTECT THE PLASTIC BAG BAN, SPONSORED BY ENVIRONMENTAL AND OCEAN PROTECTION ORGANIZATIONS, BUSINESSES INCLUDING GROCERS AND REUSABLE BAG MAKERS, AND OTHER NONPROFIT ORGANIZATIONS\", \"committee_position\": \"SUPPORT\", \"committee_name_y\": \"YES ON 67 - PROTECT THE PLASTIC BAG BAN, SPONSORED BY ENVIRONMENTAL AND OCEAN PROTECTION ORGANIZATIONS, BUSINESSES INCLUDING GROCERS AND REUSABLE BAG MAKERS, AND OTHER NONPROFIT ORGANIZATIONS\", \"calaccess_filing_id\": 2098468, \"date_received\": \"2016-09-29\", \"contributor_lastname\": \"PACKARD\", \"contributor_firstname\": \"JULIE\", \"contributor_city\": \"MONTEREY\", \"contributor_state\": \"CA\", \"contributor_zip\": \"93940\", \"contributor_employer\": \"MONTEREY BAY AQUARIUM FOUNDATION\", \"contributor_occupation\": \"EXECUTIVE DIRECTOR\", \"contributor_is_self_employed\": false, \"amount\": 100000.0}, {\"ocd_prop_id\": \"ocd-contest/7495cdbe-1aa7-4c26-9a55-aa4130347b95\", \"calaccess_prop_id\": 1372638, \"ccdc_prop_id\": 86, \"prop_name\": \"PROPOSITION 067- REFERENDUM TO OVERTURN BAN ON SINGLE-USE PLASTIC BAGS.\", \"ccdc_committee_id\": 477, \"calaccess_committee_id\": 1372900, \"committee_name_x\": \"YES ON 67 - PROTECT THE PLASTIC BAG BAN, SPONSORED BY ENVIRONMENTAL AND OCEAN PROTECTION ORGANIZATIONS, BUSINESSES INCLUDING GROCERS AND REUSABLE BAG MAKERS, AND OTHER NONPROFIT ORGANIZATIONS\", \"committee_position\": \"SUPPORT\", \"committee_name_y\": \"YES ON 67 - PROTECT THE PLASTIC BAG BAN, SPONSORED BY ENVIRONMENTAL AND OCEAN PROTECTION ORGANIZATIONS, BUSINESSES INCLUDING GROCERS AND REUSABLE BAG MAKERS, AND OTHER NONPROFIT ORGANIZATIONS\", \"calaccess_filing_id\": 2098468, \"date_received\": \"2016-10-06\", \"contributor_lastname\": \"PERRY\", \"contributor_firstname\": \"CLAIRE\", \"contributor_city\": \"PASADENA\", \"contributor_state\": \"CA\", \"contributor_zip\": \"91101\", \"contributor_employer\": \"CLAIRE PERRY, BUSINESSWOMAN\", \"contributor_occupation\": \"BUSINESSWOMAN\", \"contributor_is_self_employed\": false, \"amount\": 100000.0}, {\"ocd_prop_id\": \"ocd-contest/7495cdbe-1aa7-4c26-9a55-aa4130347b95\", \"calaccess_prop_id\": 1372638, \"ccdc_prop_id\": 86, \"prop_name\": \"PROPOSITION 067- REFERENDUM TO OVERTURN BAN ON SINGLE-USE PLASTIC BAGS.\", \"ccdc_committee_id\": 481, \"calaccess_committee_id\": 1346973, \"committee_name_x\": \"CALIFORNIA GROCERS ASSOCIATION ISSUES COMMITTEE (NON-PROFIT 501(C) 6): YES ON PROPOSITION 67\", \"committee_position\": \"SUPPORT\", \"committee_name_y\": \"CALIFORNIA GROCERS ASSOCIATION ISSUES COMMITTEE (NON-PROFIT 501(C) 6): YES ON PROPOSITION 67\", \"calaccess_filing_id\": 1965934, \"date_received\": \"2015-02-24\", \"contributor_lastname\": \"CALIFORNIA GROCERS ASSOCIATION\", \"contributor_firstname\": null, \"contributor_city\": \"SACRAMENTO\", \"contributor_state\": \"CA\", \"contributor_zip\": \"95814\", \"contributor_employer\": null, \"contributor_occupation\": null, \"contributor_is_self_employed\": false, \"amount\": 100000.0}]}}, {\"mode\": \"vega-lite\"});\n</script>",
      "text/plain": [
       "alt.Chart(...)"
      ]
     },
     "metadata": {},
     "execution_count": 93
    }
   ],
   "source": [
    "topfivesupport = support.sort_values(\"amount\", ascending=False).head()\n",
    "alt.Chart(topfivesupport).mark_bar().encode(y=alt.Y(\"contributor_lastname\", sort=\"-x\"), x=\"amount\")"
   ]
  },
  {
   "cell_type": "markdown",
   "id": "excited-stretch",
   "metadata": {},
   "source": [
    "### Top Five Cumualitive Contributions by State"
   ]
  },
  {
   "cell_type": "code",
   "execution_count": 94,
   "id": "auburn-specific",
   "metadata": {},
   "outputs": [
    {
     "output_type": "execute_result",
     "data": {
      "text/html": "\n<div id=\"altair-viz-b514b543b21c41d585a18040556aaffc\"></div>\n<script type=\"text/javascript\">\n  (function(spec, embedOpt){\n    let outputDiv = document.currentScript.previousElementSibling;\n    if (outputDiv.id !== \"altair-viz-b514b543b21c41d585a18040556aaffc\") {\n      outputDiv = document.getElementById(\"altair-viz-b514b543b21c41d585a18040556aaffc\");\n    }\n    const paths = {\n      \"vega\": \"https://cdn.jsdelivr.net/npm//vega@5?noext\",\n      \"vega-lib\": \"https://cdn.jsdelivr.net/npm//vega-lib?noext\",\n      \"vega-lite\": \"https://cdn.jsdelivr.net/npm//vega-lite@4.8.1?noext\",\n      \"vega-embed\": \"https://cdn.jsdelivr.net/npm//vega-embed@6?noext\",\n    };\n\n    function loadScript(lib) {\n      return new Promise(function(resolve, reject) {\n        var s = document.createElement('script');\n        s.src = paths[lib];\n        s.async = true;\n        s.onload = () => resolve(paths[lib]);\n        s.onerror = () => reject(`Error loading script: ${paths[lib]}`);\n        document.getElementsByTagName(\"head\")[0].appendChild(s);\n      });\n    }\n\n    function showError(err) {\n      outputDiv.innerHTML = `<div class=\"error\" style=\"color:red;\">${err}</div>`;\n      throw err;\n    }\n\n    function displayChart(vegaEmbed) {\n      vegaEmbed(outputDiv, spec, embedOpt)\n        .catch(err => showError(`Javascript Error: ${err.message}<br>This usually means there's a typo in your chart specification. See the javascript console for the full traceback.`));\n    }\n\n    if(typeof define === \"function\" && define.amd) {\n      requirejs.config({paths});\n      require([\"vega-embed\"], displayChart, err => showError(`Error loading script: ${err.message}`));\n    } else if (typeof vegaEmbed === \"function\") {\n      displayChart(vegaEmbed);\n    } else {\n      loadScript(\"vega\")\n        .then(() => loadScript(\"vega-lite\"))\n        .then(() => loadScript(\"vega-embed\"))\n        .catch(showError)\n        .then(() => displayChart(vegaEmbed));\n    }\n  })({\"config\": {\"view\": {\"continuousWidth\": 400, \"continuousHeight\": 300}}, \"data\": {\"name\": \"data-61c36ec8ae3b88b4a96255bb4f4c2994\"}, \"mark\": \"bar\", \"encoding\": {\"x\": {\"type\": \"nominal\", \"field\": \"contributor_state\", \"sort\": \"-y\"}, \"y\": {\"type\": \"quantitative\", \"field\": \"amount\"}}, \"$schema\": \"https://vega.github.io/schema/vega-lite/v4.8.1.json\", \"datasets\": {\"data-61c36ec8ae3b88b4a96255bb4f4c2994\": [{\"contributor_state\": \"CA\", \"amount\": 1530376.75}, {\"contributor_state\": \"TX\", \"amount\": 1056402.75}, {\"contributor_state\": \"SC\", \"amount\": 874769.0}, {\"contributor_state\": \"NJ\", \"amount\": 748631.5}, {\"contributor_state\": \"AZ\", \"amount\": 155040.0}]}}, {\"mode\": \"vega-lite\"});\n</script>",
      "text/plain": [
       "alt.Chart(...)"
      ]
     },
     "metadata": {},
     "execution_count": 94
    }
   ],
   "source": [
    "bystate=merged.groupby(\"contributor_state\").amount.sum().reset_index().sort_values(\"amount\", ascending=False).head()\n",
    "alt.Chart(bystate).mark_bar().encode(x=alt.X(\"contributor_state\", sort=\"-y\"), y=\"amount\")"
   ]
  },
  {
   "cell_type": "markdown",
   "id": "prescription-bloom",
   "metadata": {},
   "source": [
    "### Top Ten Contributors on Prop"
   ]
  },
  {
   "cell_type": "code",
   "execution_count": 95,
   "id": "dense-humidity",
   "metadata": {},
   "outputs": [
    {
     "output_type": "execute_result",
     "data": {
      "text/html": "\n<div id=\"altair-viz-a68b8753a88843d09fd9aaed0e4c15a9\"></div>\n<script type=\"text/javascript\">\n  (function(spec, embedOpt){\n    let outputDiv = document.currentScript.previousElementSibling;\n    if (outputDiv.id !== \"altair-viz-a68b8753a88843d09fd9aaed0e4c15a9\") {\n      outputDiv = document.getElementById(\"altair-viz-a68b8753a88843d09fd9aaed0e4c15a9\");\n    }\n    const paths = {\n      \"vega\": \"https://cdn.jsdelivr.net/npm//vega@5?noext\",\n      \"vega-lib\": \"https://cdn.jsdelivr.net/npm//vega-lib?noext\",\n      \"vega-lite\": \"https://cdn.jsdelivr.net/npm//vega-lite@4.8.1?noext\",\n      \"vega-embed\": \"https://cdn.jsdelivr.net/npm//vega-embed@6?noext\",\n    };\n\n    function loadScript(lib) {\n      return new Promise(function(resolve, reject) {\n        var s = document.createElement('script');\n        s.src = paths[lib];\n        s.async = true;\n        s.onload = () => resolve(paths[lib]);\n        s.onerror = () => reject(`Error loading script: ${paths[lib]}`);\n        document.getElementsByTagName(\"head\")[0].appendChild(s);\n      });\n    }\n\n    function showError(err) {\n      outputDiv.innerHTML = `<div class=\"error\" style=\"color:red;\">${err}</div>`;\n      throw err;\n    }\n\n    function displayChart(vegaEmbed) {\n      vegaEmbed(outputDiv, spec, embedOpt)\n        .catch(err => showError(`Javascript Error: ${err.message}<br>This usually means there's a typo in your chart specification. See the javascript console for the full traceback.`));\n    }\n\n    if(typeof define === \"function\" && define.amd) {\n      requirejs.config({paths});\n      require([\"vega-embed\"], displayChart, err => showError(`Error loading script: ${err.message}`));\n    } else if (typeof vegaEmbed === \"function\") {\n      displayChart(vegaEmbed);\n    } else {\n      loadScript(\"vega\")\n        .then(() => loadScript(\"vega-lite\"))\n        .then(() => loadScript(\"vega-embed\"))\n        .catch(showError)\n        .then(() => displayChart(vegaEmbed));\n    }\n  })({\"config\": {\"view\": {\"continuousWidth\": 400, \"continuousHeight\": 300}}, \"data\": {\"name\": \"data-b1d7ed961529e33d4271eea8398f9b80\"}, \"mark\": \"bar\", \"encoding\": {\"color\": {\"type\": \"nominal\", \"field\": \"committee_position\"}, \"x\": {\"type\": \"quantitative\", \"field\": \"amount\"}, \"y\": {\"type\": \"nominal\", \"field\": \"contributor_firstname\", \"sort\": \"-x\"}}, \"title\": \"test\", \"$schema\": \"https://vega.github.io/schema/vega-lite/v4.8.1.json\", \"datasets\": {\"data-b1d7ed961529e33d4271eea8398f9b80\": [{\"contributor_state\": \"CA\", \"contributor_firstname\": \"JULIE\", \"contributor_lastname\": \"PACKARD\", \"committee_position\": \"SUPPORT\", \"amount\": 105000.0}, {\"contributor_state\": \"CA\", \"contributor_firstname\": \"CLAIRE\", \"contributor_lastname\": \"PERRY\", \"committee_position\": \"SUPPORT\", \"amount\": 100000.0}, {\"contributor_state\": \"CA\", \"contributor_firstname\": \"THOMAS F\", \"contributor_lastname\": \"STEYER\", \"committee_position\": \"SUPPORT\", \"amount\": 50000.0}, {\"contributor_state\": \"CA\", \"contributor_firstname\": \"ANNE G.\", \"contributor_lastname\": \"EARHART\", \"committee_position\": \"SUPPORT\", \"amount\": 25000.0}, {\"contributor_state\": \"CA\", \"contributor_firstname\": \"NANCY\", \"contributor_lastname\": \"BURNETT\", \"committee_position\": \"SUPPORT\", \"amount\": 19000.0}, {\"contributor_state\": \"CA\", \"contributor_firstname\": \"RICHARD\", \"contributor_lastname\": \"KOPCHO\", \"committee_position\": \"SUPPORT\", \"amount\": 5000.0}, {\"contributor_state\": \"CA\", \"contributor_firstname\": \"JOHN\", \"contributor_lastname\": \"WEEDEN\", \"committee_position\": \"SUPPORT\", \"amount\": 5000.0}, {\"contributor_state\": \"CA\", \"contributor_firstname\": \"JOSEPH\", \"contributor_lastname\": \"MATTEUCCI\", \"committee_position\": \"SUPPORT\", \"amount\": 3060.0}, {\"contributor_state\": \"CA\", \"contributor_firstname\": \"CHARLES\", \"contributor_lastname\": \"JONAS\", \"committee_position\": \"SUPPORT\", \"amount\": 2850.0}, {\"contributor_state\": \"CA\", \"contributor_firstname\": \"JANET\", \"contributor_lastname\": \"CARTER\", \"committee_position\": \"SUPPORT\", \"amount\": 2600.0}]}}, {\"mode\": \"vega-lite\"});\n</script>",
      "text/plain": [
       "alt.Chart(...)"
      ]
     },
     "metadata": {},
     "execution_count": 95
    }
   ],
   "source": [
    "topten=merged.groupby([\"contributor_state\", \"contributor_firstname\",\"contributor_lastname\", \"committee_position\"]).amount.sum().reset_index().sort_values(\"amount\", ascending=False).head(10)\n",
    "alt.Chart(topten).mark_bar().encode(y=alt.Y(\"contributor_firstname\", sort=\"-x\"), x=\"amount\", color=\"committee_position\").properties(title=\"test\")"
   ]
  },
  {
   "cell_type": "markdown",
   "id": "polar-korean",
   "metadata": {},
   "source": [
    "### On Small Contributions"
   ]
  },
  {
   "cell_type": "markdown",
   "id": "living-africa",
   "metadata": {},
   "source": [
    "From First Python Notebook : "
   ]
  },
  {
   "cell_type": "markdown",
   "id": "fancy-brush",
   "metadata": {},
   "source": [
    "![alt text](snapshot.png \"title\")"
   ]
  },
  {
   "cell_type": "markdown",
   "id": "effective-smooth",
   "metadata": {},
   "source": [
    "yet this is contridicted as there are 118 contributions that are less than $100"
   ]
  },
  {
   "cell_type": "code",
   "execution_count": 96,
   "id": "photographic-office",
   "metadata": {},
   "outputs": [
    {
     "output_type": "execute_result",
     "data": {
      "text/plain": [
       "34      50.0\n",
       "57      50.0\n",
       "76      30.0\n",
       "81      67.0\n",
       "87      80.0\n",
       "        ... \n",
       "6206    15.0\n",
       "6207    15.0\n",
       "6208    15.0\n",
       "6223    25.0\n",
       "6225    25.0\n",
       "Name: amount, Length: 2862, dtype: float64"
      ]
     },
     "metadata": {},
     "execution_count": 96
    }
   ],
   "source": [
    "merged.amount[abs(merged.amount)<100]"
   ]
  },
  {
   "cell_type": "code",
   "execution_count": null,
   "id": "valuable-presentation",
   "metadata": {},
   "outputs": [],
   "source": []
  }
 ],
 "metadata": {
  "kernelspec": {
   "display_name": "Python 3",
   "language": "python",
   "name": "python3"
  },
  "language_info": {
   "codemirror_mode": {
    "name": "ipython",
    "version": 3
   },
   "file_extension": ".py",
   "mimetype": "text/x-python",
   "name": "python",
   "nbconvert_exporter": "python",
   "pygments_lexer": "ipython3",
   "version": "3.8.3-final"
  }
 },
 "nbformat": 4,
 "nbformat_minor": 5
}